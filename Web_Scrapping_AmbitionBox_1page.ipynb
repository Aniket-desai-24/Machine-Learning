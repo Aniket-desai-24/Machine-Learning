{
 "cells": [
  {
   "cell_type": "code",
   "execution_count": 3,
   "id": "60f039db",
   "metadata": {},
   "outputs": [],
   "source": [
    "import pandas as pd\n",
    "\n",
    "import requests\n",
    "import numpy as np\n",
    "from bs4 import BeautifulSoup"
   ]
  },
  {
   "cell_type": "markdown",
   "id": "f7ce0943",
   "metadata": {},
   "source": [
    "## Visual Python Upgrade\n",
    "NOTE: \n",
    "- Refresh your web browser to start a new version.\n",
    "- Save VP Note before refreshing the page."
   ]
  },
  {
   "cell_type": "code",
   "execution_count": 1,
   "id": "2b8a4d9c",
   "metadata": {},
   "outputs": [
    {
     "name": "stdout",
     "output_type": "stream",
     "text": [
      "Requirement already satisfied: visualpython in c:\\users\\user\\anaconda3\\lib\\site-packages (2.3.4)\n",
      "Collecting visualpython\n",
      "  Downloading visualpython-2.3.5-py3-none-any.whl (15.1 MB)\n",
      "     ---------------------------------------- 15.1/15.1 MB 1.6 MB/s eta 0:00:00\n",
      "Installing collected packages: visualpython\n",
      "  Attempting uninstall: visualpython\n",
      "    Found existing installation: visualpython 2.3.4\n",
      "    Uninstalling visualpython-2.3.4:\n",
      "      Successfully uninstalled visualpython-2.3.4\n",
      "Successfully installed visualpython-2.3.5\n"
     ]
    }
   ],
   "source": [
    "# Visual Python\n",
    "!pip install visualpython --upgrade"
   ]
  },
  {
   "cell_type": "code",
   "execution_count": 2,
   "id": "fd44b663",
   "metadata": {},
   "outputs": [
    {
     "name": "stdout",
     "output_type": "stream",
     "text": [
      "Package install command: pip\n",
      "==========================================================================================\n",
      "Already exists Visual Python.\n",
      "==========================================================================================\n",
      "==========================================================================================\n",
      "Remove Visual Python Directories.\n",
      "==========================================================================================\n",
      "Copy visualpython extension files ...\n",
      "------------------------------------------------------------------------------------------\n",
      "Source Dir : c:\\users\\user\\anaconda3\\lib\\site-packages\\visualpython\n",
      "Target Dir : C:\\Users\\user\\anaconda3\\share\\jupyter\\nbextensions\\visualpython\n",
      "==========================================================================================\n",
      "464 File(s) copied\n"
     ]
    },
    {
     "name": "stderr",
     "output_type": "stream",
     "text": [
      "Disabling notebook extension visualpython/visualpython...\n",
      "      - Validating: ok\n",
      "Enabling notebook extension visualpython/visualpython...\n",
      "      - Validating: ok\n"
     ]
    }
   ],
   "source": [
    "# Visual Python\n",
    "!visualpy install"
   ]
  },
  {
   "cell_type": "code",
   "execution_count": null,
   "id": "e1213b0a",
   "metadata": {},
   "outputs": [],
   "source": []
  },
  {
   "cell_type": "code",
   "execution_count": null,
   "id": "9e5aaba1",
   "metadata": {},
   "outputs": [],
   "source": []
  },
  {
   "cell_type": "code",
   "execution_count": 85,
   "id": "5d193cec",
   "metadata": {},
   "outputs": [],
   "source": [
    "# header is used to access the site through the browser if the site does not give a access to scrape the data through python request.\n",
    "headers = {'User-Agent': 'Mozilla/5.0 (Windows NT 10.0; rv:91.0) Gecko/20100101 Firefox/91.0'}\n",
    "\n",
    "#\n",
    "webpage=requests.get(\"https://www.linkedin.com/feed/\").text"
   ]
  },
  {
   "cell_type": "code",
   "execution_count": 86,
   "id": "13929a56",
   "metadata": {},
   "outputs": [],
   "source": [
    "soup=BeautifulSoup(webpage,'lxml')"
   ]
  },
  {
   "cell_type": "code",
   "execution_count": 87,
   "id": "c27b5659",
   "metadata": {
    "scrolled": false
   },
   "outputs": [],
   "source": [
    "#company=soup.find_all('div',class_=\"news-module pv3\")"
   ]
  },
  {
   "cell_type": "code",
   "execution_count": 89,
   "id": "06ab8741",
   "metadata": {},
   "outputs": [],
   "source": []
  },
  {
   "cell_type": "code",
   "execution_count": 90,
   "id": "4dc616f5",
   "metadata": {},
   "outputs": [
    {
     "data": {
      "text/plain": [
       "[<div class=\"vendor-info\" style=\"min-height:160px\"><div class=\"padding-10\" style=\"padding-bottom:0px\"><div class=\"line f-space-between\"><div class=\"frow\" style=\"max-width:70%\"><a class=\"vendor-detail text-bold h6\" href=\"/wedding-venues/Hilton-Mumbai-International-Airport-545639\" style=\"max-width:200px;font-size:18px\" target=\"_blank\" title=\"Hilton Mumbai International Airport\">Hilton Mumbai International Airport</a></div><div class=\"nowrap f-sb-bw\" style=\"overflow:hidden\"><span class=\"StarRatingNew fw-500 center rating-new-5 regular\" style=\"color:;min-width:;max-width:;height:;font-size:16px\"><i class=\"fa fa-star margin-r-5\" style=\"color:#e72e77\"></i>4.8</span><span class=\"review-cnt regular nowrap margin-l-5\" style=\"color:#909090\">(<!-- -->10<!-- --> <!-- -->reviews<!-- -->)</span></div></div><div class=\"line\" style=\"margin-top:5px;align-items:center\"><div class=\"info-icon text-tertiary frow margin-r-10\"><p style=\"margin:0 5px 0 0\"><img alt=\"Location\" height=\"14\" src=\"/static/media/location.417064ed.svg\" style=\"vertical-align:middle\" width=\"10.63\"/></p><p class=\"vendor-detail\"><span>Vile Parle<span>, </span></span><span>Mumbai</span> </p></div><div class=\"info-icon text-tertiary frow margin-r-10 overflow-hidden\"><img alt=\"Venue\" height=\"17\" src=\"/static/media/ResortIcon.00b02371.svg\" style=\"vertical-align:middle\" width=\"14\"/><p class=\"margin-l-5\" style=\"width:230px;white-space:nowrap;overflow:hidden;text-overflow:ellipsis;line-height:normal\" title=\"4 Star &amp; Above Hotels, Banquet Halls\">4 Star &amp; Above Hotels, Banquet Halls</p></div></div></div><div class=\"vendor-price frow margin-10 f-space-between\" style=\"margin-top:-2px\"><div class=\"f-sb-bw\"><div style=\"margin-right:30px\"><div class=\"fcol\"><p style=\"font-size:12px;color:#909090;margin-bottom:-5px\">Veg</p><div><div class=\"frow f-wrap\"><p class=\"vendor-detail text-bold text-primary v-center margin-r-5\" style=\"font-size:18px;font-weight:600;color:#4a4a4a\"><i class=\"fa fa-inr margin-r-5\"></i><span>3,000</span></p><p class=\"text-primary\" style=\"color:#4a4a4a;font-size:12px\">per plate</p></div></div></div></div><div><div class=\"fcol\"><p style=\"font-size:12px;color:#909090;margin-bottom:-5px\">Non veg</p><div><div class=\"frow f-wrap\"><p class=\"vendor-detail text-bold text-primary v-center margin-r-5\" style=\"font-size:18px;font-weight:600;color:#4a4a4a\"><i class=\"fa fa-inr margin-r-5\"></i><span>3,400</span></p><p class=\"text-primary\" style=\"color:#4a4a4a;font-size:12px\">per plate</p></div></div></div></div><div></div></div></div><div class=\"v-center margin-10\" style=\"justify-content:flex-start;margin-top:-2px;flex-wrap:wrap;min-height:27px\"><div style=\"background-color:#eeeeee;padding:0 6px;margin-right:10px;width:auto;margin-bottom:5px;height:22px;display:flex;align-items:center\"><p style=\"font-size:12px;max-width:140px;width:fit-content;white-space:nowrap;overflow:hidden;text-overflow:ellipsis\" title=\"100-600 pax\">100-600 pax</p></div><div style=\"background-color:#eeeeee;padding:0 6px;margin-right:10px;width:auto;margin-bottom:5px;height:22px;display:flex;align-items:center\"><p style=\"font-size:12px;max-width:140px;width:fit-content;white-space:nowrap;overflow:hidden;text-overflow:ellipsis\" title=\"171 Rooms\">171 Rooms</p></div><div style=\"white-space:nowrap;margin-top:-5px\"><p class=\"pointer\" data-for=\"53232tooltop\" data-tip=\"true\" style=\"text-decoration:underline;font-size:12px;font-weight:600;color:#909090\">+<!-- -->6<!-- --> <!-- -->more</p><div class=\"__react_component_tooltip place-top type-dark\" data-id=\"tooltip\"></div></div></div></div>,\n",
       " <div class=\"vendor-info\" style=\"min-height:160px\"><div class=\"padding-10\" style=\"padding-bottom:0px\"><div class=\"line f-space-between\"><div class=\"frow\" style=\"max-width:70%\"><a class=\"vendor-detail text-bold h6\" href=\"/wedding-venues/ambaari-2737069\" style=\"max-width:200px;font-size:18px\" target=\"_blank\" title=\"Ambaari\">Ambaari</a></div><div class=\"nowrap f-sb-bw\" style=\"overflow:hidden\"><span class=\"StarRatingNew fw-500 center rating-new-5 regular\" style=\"color:;min-width:;max-width:;height:;font-size:16px\"><i class=\"fa fa-star margin-r-5\" style=\"color:#e72e77\"></i>5.0</span><span class=\"review-cnt regular nowrap margin-l-5\" style=\"color:#909090\">(<!-- -->10<!-- --> <!-- -->reviews<!-- -->)</span></div></div><div class=\"line\" style=\"margin-top:5px;align-items:center\"><div class=\"info-icon text-tertiary frow margin-r-10\"><p style=\"margin:0 5px 0 0\"><img alt=\"Location\" height=\"14\" src=\"/static/media/location.417064ed.svg\" style=\"vertical-align:middle\" width=\"10.63\"/></p><p class=\"vendor-detail\"><span>Bannerghatta Main Road<span>, </span></span><span>Bangalore</span> </p></div><div class=\"info-icon text-tertiary frow margin-r-10 overflow-hidden\"><img alt=\"Venue\" height=\"17\" src=\"/static/media/ResortIcon.00b02371.svg\" style=\"vertical-align:middle\" width=\"14\"/><p class=\"margin-l-5\" style=\"width:230px;white-space:nowrap;overflow:hidden;text-overflow:ellipsis;line-height:normal\" title=\"Banquet Halls, Lawns / Farmhouses\">Banquet Halls, Lawns / Farmhouses</p></div></div></div><div class=\"vendor-price frow margin-10 f-space-between\" style=\"margin-top:-2px\"><div class=\"f-sb-bw\"><div style=\"margin-right:0\"></div><div></div><div><div class=\"fcol\" style=\"margin-top:15px\"><div><div class=\"frow f-wrap\"><p class=\"vendor-detail text-bold text-primary v-center margin-r-5\" style=\"font-size:18px;font-weight:600;color:#4a4a4a\"><span class=\"\" style=\"font-size:18px\">Rental Only</span></p></div></div></div></div></div></div><div class=\"v-center margin-10\" style=\"justify-content:flex-start;margin-top:-2px;flex-wrap:wrap;min-height:27px\"><div style=\"background-color:#eeeeee;padding:0 6px;margin-right:10px;width:auto;margin-bottom:5px;height:22px;display:flex;align-items:center\"><p style=\"font-size:12px;max-width:140px;width:fit-content;white-space:nowrap;overflow:hidden;text-overflow:ellipsis\" title=\"800-1500 pax\">800-1500 pax</p></div><div style=\"background-color:#eeeeee;padding:0 6px;margin-right:10px;width:auto;margin-bottom:5px;height:22px;display:flex;align-items:center\"><p style=\"font-size:12px;max-width:140px;width:fit-content;white-space:nowrap;overflow:hidden;text-overflow:ellipsis\" title=\"15 Rooms\">15 Rooms</p></div><div style=\"white-space:nowrap;margin-top:-5px\"><p class=\"pointer\" data-for=\"200150tooltop\" data-tip=\"true\" style=\"text-decoration:underline;font-size:12px;font-weight:600;color:#909090\">+<!-- -->6<!-- --> <!-- -->more</p><div class=\"__react_component_tooltip place-top type-dark\" data-id=\"tooltip\"></div></div></div></div>,\n",
       " <div class=\"vendor-info\" style=\"min-height:160px\"><div class=\"padding-10\" style=\"padding-bottom:0px\"><div class=\"line f-space-between\"><div class=\"frow\" style=\"max-width:70%\"><a class=\"vendor-detail text-bold h6\" href=\"/wedding-venues/the-coco-club-2309190\" style=\"max-width:200px;font-size:18px\" target=\"_blank\" title=\"The Coco Club\">The Coco Club</a></div><div class=\"nowrap f-sb-bw\" style=\"overflow:hidden\"><span class=\"StarRatingNew fw-500 center rating-new-5 regular\" style=\"color:;min-width:;max-width:;height:;font-size:16px\"><i class=\"fa fa-star margin-r-5\" style=\"color:#e72e77\"></i>5.0</span><span class=\"review-cnt regular nowrap margin-l-5\" style=\"color:#909090\">(<!-- -->6<!-- --> <!-- -->reviews<!-- -->)</span></div></div><div class=\"line\" style=\"margin-top:5px;align-items:center\"><div class=\"info-icon text-tertiary frow margin-r-10\"><p style=\"margin:0 5px 0 0\"><img alt=\"Location\" height=\"14\" src=\"/static/media/location.417064ed.svg\" style=\"vertical-align:middle\" width=\"10.63\"/></p><p class=\"vendor-detail\"><span>Devanahalli<span>, </span></span><span>Bangalore</span> </p></div><div class=\"info-icon text-tertiary frow margin-r-10 overflow-hidden\"><img alt=\"Venue\" height=\"17\" src=\"/static/media/ResortIcon.00b02371.svg\" style=\"vertical-align:middle\" width=\"14\"/><p class=\"margin-l-5\" style=\"width:230px;white-space:nowrap;overflow:hidden;text-overflow:ellipsis;line-height:normal\" title=\"Banquet Halls, Lawns / Farmhouses\">Banquet Halls, Lawns / Farmhouses</p></div></div></div><div class=\"vendor-price frow margin-10 f-space-between\" style=\"margin-top:-2px\"><div class=\"f-sb-bw\"><div style=\"margin-right:0\"></div><div></div><div><div class=\"fcol\" style=\"margin-top:15px\"><div><div class=\"frow f-wrap\"><p class=\"vendor-detail text-bold text-primary v-center margin-r-5\" style=\"font-size:18px;font-weight:600;color:#4a4a4a\"><span class=\"\" style=\"font-size:18px\">Rental Only</span></p></div></div></div></div></div></div><div class=\"v-center margin-10\" style=\"justify-content:flex-start;margin-top:-2px;flex-wrap:wrap;min-height:27px\"><div style=\"background-color:#eeeeee;padding:0 6px;margin-right:10px;width:auto;margin-bottom:5px;height:22px;display:flex;align-items:center\"><p style=\"font-size:12px;max-width:140px;width:fit-content;white-space:nowrap;overflow:hidden;text-overflow:ellipsis\" title=\"700-1000 pax\">700-1000 pax</p></div><div style=\"background-color:#eeeeee;padding:0 6px;margin-right:10px;width:auto;margin-bottom:5px;height:22px;display:flex;align-items:center\"><p style=\"font-size:12px;max-width:140px;width:fit-content;white-space:nowrap;overflow:hidden;text-overflow:ellipsis\" title=\"6 Rooms\">6 Rooms</p></div><div style=\"white-space:nowrap;margin-top:-5px\"><p class=\"pointer\" data-for=\"186083tooltop\" data-tip=\"true\" style=\"text-decoration:underline;font-size:12px;font-weight:600;color:#909090\">+<!-- -->4<!-- --> <!-- -->more</p><div class=\"__react_component_tooltip place-top type-dark\" data-id=\"tooltip\"></div></div></div></div>,\n",
       " <div class=\"vendor-info\" style=\"min-height:160px\"><div class=\"padding-10\" style=\"padding-bottom:0px\"><div class=\"line f-space-between\"><div class=\"frow\" style=\"max-width:70%\"><a class=\"vendor-detail text-bold h6\" href=\"/wedding-venues/Veerdency-Luxury-Resort-3263497\" style=\"max-width:200px;font-size:18px\" target=\"_blank\" title=\"Veerdency Luxury Resort\">Veerdency Luxury Resort</a></div><div class=\"nowrap f-sb-bw\" style=\"overflow:hidden\"><span class=\"StarRatingNew fw-500 center rating-new-5 regular\" style=\"color:;min-width:;max-width:;height:;font-size:16px\"><i class=\"fa fa-star margin-r-5\" style=\"color:#e72e77\"></i>5.0</span><span class=\"review-cnt regular nowrap margin-l-5\" style=\"color:#909090\">(<!-- -->15<!-- --> <!-- -->reviews<!-- -->)</span></div></div><div class=\"line\" style=\"margin-top:5px;align-items:center\"><div class=\"info-icon text-tertiary frow margin-r-10\"><p style=\"margin:0 5px 0 0\"><img alt=\"Location\" height=\"14\" src=\"/static/media/location.417064ed.svg\" style=\"vertical-align:middle\" width=\"10.63\"/></p><p class=\"vendor-detail\"><span>Devanahalli<span>, </span></span><span>Bangalore</span> </p></div><div class=\"info-icon text-tertiary frow margin-r-10 overflow-hidden\"><img alt=\"Venue\" height=\"17\" src=\"/static/media/ResortIcon.00b02371.svg\" style=\"vertical-align:middle\" width=\"14\"/><p class=\"margin-l-5\" style=\"width:230px;white-space:nowrap;overflow:hidden;text-overflow:ellipsis;line-height:normal\" title=\"Banquet Halls, Lawns / Farmhouses\">Banquet Halls, Lawns / Farmhouses</p></div></div></div><div class=\"vendor-price frow margin-10 f-space-between\" style=\"margin-top:-2px\"><div class=\"f-sb-bw\"><div style=\"margin-right:0\"><div class=\"fcol\"><p style=\"font-size:12px;color:#909090;margin-bottom:-5px\">Veg</p><div><div class=\"frow f-wrap\"><p class=\"vendor-detail text-bold text-primary v-center margin-r-5\" style=\"font-size:18px;font-weight:600;color:#4a4a4a\"><i class=\"fa fa-inr margin-r-5\"></i><span>2,000</span></p></div></div></div></div><div></div><div></div></div></div><div class=\"v-center margin-10\" style=\"justify-content:flex-start;margin-top:-2px;flex-wrap:wrap;min-height:27px\"><div style=\"background-color:#eeeeee;padding:0 6px;margin-right:10px;width:auto;margin-bottom:5px;height:22px;display:flex;align-items:center\"><p style=\"font-size:12px;max-width:140px;width:fit-content;white-space:nowrap;overflow:hidden;text-overflow:ellipsis\" title=\"80-600 pax\">80-600 pax</p></div><div style=\"background-color:#eeeeee;padding:0 6px;margin-right:10px;width:auto;margin-bottom:5px;height:22px;display:flex;align-items:center\"><p style=\"font-size:12px;max-width:140px;width:fit-content;white-space:nowrap;overflow:hidden;text-overflow:ellipsis\" title=\"WMG Users Choice Awards Winner\">WMG Users Choice Awards Winner</p></div><div style=\"white-space:nowrap;margin-top:-5px\"><p class=\"pointer\" data-for=\"227684tooltop\" data-tip=\"true\" style=\"text-decoration:underline;font-size:12px;font-weight:600;color:#909090\">+<!-- -->6<!-- --> <!-- -->more</p><div class=\"__react_component_tooltip place-top type-dark\" data-id=\"tooltip\"></div></div></div></div>,\n",
       " <div class=\"vendor-info\" style=\"min-height:160px\"><div class=\"padding-10\" style=\"padding-bottom:0px\"><div class=\"line f-space-between\"><div class=\"frow\" style=\"max-width:70%\"><a class=\"vendor-detail text-bold h6\" href=\"/wedding-venues/Hyatt-Regency-Amritsar-1107846\" style=\"max-width:200px;font-size:18px\" target=\"_blank\" title=\"Hyatt Regency Amritsar\">Hyatt Regency Amritsar</a></div><div class=\"nowrap f-sb-bw\" style=\"overflow:hidden\"><span class=\"StarRatingNew fw-500 center rating-new-5 regular\" style=\"color:;min-width:;max-width:;height:;font-size:16px\"><i class=\"fa fa-star margin-r-5\" style=\"color:#e72e77\"></i>5.0</span><span class=\"review-cnt regular nowrap margin-l-5\" style=\"color:#909090\">(<!-- -->5<!-- --> <!-- -->reviews<!-- -->)</span></div></div><div class=\"line\" style=\"margin-top:5px;align-items:center\"><div class=\"info-icon text-tertiary frow margin-r-10\"><p style=\"margin:0 5px 0 0\"><img alt=\"Location\" height=\"14\" src=\"/static/media/location.417064ed.svg\" style=\"vertical-align:middle\" width=\"10.63\"/></p><p class=\"vendor-detail\"><span>Amritsar Cantt<span>, </span></span><span>Amritsar</span> </p></div><div class=\"info-icon text-tertiary frow margin-r-10 overflow-hidden\"><img alt=\"Venue\" height=\"17\" src=\"/static/media/ResortIcon.00b02371.svg\" style=\"vertical-align:middle\" width=\"14\"/><p class=\"margin-l-5\" style=\"width:230px;white-space:nowrap;overflow:hidden;text-overflow:ellipsis;line-height:normal\" title=\"4 Star &amp; Above Hotels, Banquet Halls\">4 Star &amp; Above Hotels, Banquet Halls</p></div></div></div><div class=\"vendor-price frow margin-10 f-space-between\" style=\"margin-top:-2px\"><div class=\"f-sb-bw\"><div style=\"margin-right:30px\"><div class=\"fcol\"><p style=\"font-size:12px;color:#909090;margin-bottom:-5px\">Veg</p><div><div class=\"frow f-wrap\"><p class=\"vendor-detail text-bold text-primary v-center margin-r-5\" style=\"font-size:18px;font-weight:600;color:#4a4a4a\"><i class=\"fa fa-inr margin-r-5\"></i><span>2,300</span></p><p class=\"text-primary\" style=\"color:#4a4a4a;font-size:12px\">per plate</p></div></div></div></div><div><div class=\"fcol\"><p style=\"font-size:12px;color:#909090;margin-bottom:-5px\">Non veg</p><div><div class=\"frow f-wrap\"><p class=\"vendor-detail text-bold text-primary v-center margin-r-5\" style=\"font-size:18px;font-weight:600;color:#4a4a4a\"><i class=\"fa fa-inr margin-r-5\"></i><span>2,500</span></p><p class=\"text-primary\" style=\"color:#4a4a4a;font-size:12px\">per plate</p></div></div></div></div><div></div></div></div><div class=\"v-center margin-10\" style=\"justify-content:flex-start;margin-top:-2px;flex-wrap:wrap;min-height:27px\"><div style=\"background-color:#eeeeee;padding:0 6px;margin-right:10px;width:auto;margin-bottom:5px;height:22px;display:flex;align-items:center\"><p style=\"font-size:12px;max-width:140px;width:fit-content;white-space:nowrap;overflow:hidden;text-overflow:ellipsis\" title=\"150-300 pax\">150-300 pax</p></div><div style=\"background-color:#eeeeee;padding:0 6px;margin-right:10px;width:auto;margin-bottom:5px;height:22px;display:flex;align-items:center\"><p style=\"font-size:12px;max-width:140px;width:fit-content;white-space:nowrap;overflow:hidden;text-overflow:ellipsis\" title=\"248 Rooms\">248 Rooms</p></div><div style=\"white-space:nowrap;margin-top:-5px\"><p class=\"pointer\" data-for=\"108580tooltop\" data-tip=\"true\" style=\"text-decoration:underline;font-size:12px;font-weight:600;color:#909090\">+<!-- -->5<!-- --> <!-- -->more</p><div class=\"__react_component_tooltip place-top type-dark\" data-id=\"tooltip\"></div></div></div></div>,\n",
       " <div class=\"vendor-info\" style=\"min-height:160px\"><div class=\"padding-10\" style=\"padding-bottom:0px\"><div class=\"line f-space-between\"><div class=\"frow\" style=\"max-width:70%\"><a class=\"vendor-detail text-bold h6\" href=\"/wedding-venues/Noormahal-Palace-Hotel-Karnal-138533\" style=\"max-width:200px;font-size:18px\" target=\"_blank\" title=\"Noormahal Palace Hotel, Karnal\">Noormahal Palace Hotel, Karnal</a></div><div class=\"nowrap f-sb-bw\" style=\"overflow:hidden\"><span class=\"StarRatingNew fw-500 center rating-new-5 regular\" style=\"color:;min-width:;max-width:;height:;font-size:16px\"><i class=\"fa fa-star margin-r-5\" style=\"color:#e72e77\"></i>4.8</span><span class=\"review-cnt regular nowrap margin-l-5\" style=\"color:#909090\">(<!-- -->49<!-- --> <!-- -->reviews<!-- -->)</span></div></div><div class=\"line\" style=\"margin-top:5px;align-items:center\"><div class=\"info-icon text-tertiary frow margin-r-10\"><p style=\"margin:0 5px 0 0\"><img alt=\"Location\" height=\"14\" src=\"/static/media/location.417064ed.svg\" style=\"vertical-align:middle\" width=\"10.63\"/></p><p class=\"vendor-detail\"><span>Gt Karnal Road<span>, </span></span><span>Karnal</span> </p></div><div class=\"info-icon text-tertiary frow margin-r-10 overflow-hidden\"><img alt=\"Venue\" height=\"17\" src=\"/static/media/ResortIcon.00b02371.svg\" style=\"vertical-align:middle\" width=\"14\"/><p class=\"margin-l-5\" style=\"width:230px;white-space:nowrap;overflow:hidden;text-overflow:ellipsis;line-height:normal\" title=\"4 Star &amp; Above Hotels, Banquet Halls\">4 Star &amp; Above Hotels, Banquet Halls</p></div></div></div><div class=\"vendor-price frow margin-10 f-space-between\" style=\"margin-top:-2px\"><div class=\"f-sb-bw\"><div style=\"margin-right:30px\"><div class=\"fcol\"><p style=\"font-size:12px;color:#909090;margin-bottom:-5px\">Veg</p><div><div class=\"frow f-wrap\"><p class=\"vendor-detail text-bold text-primary v-center margin-r-5\" style=\"font-size:18px;font-weight:600;color:#4a4a4a\"><i class=\"fa fa-inr margin-r-5\"></i><span>3,500</span></p><p class=\"text-primary\" style=\"color:#4a4a4a;font-size:12px\">per plate</p></div></div></div></div><div><div class=\"fcol\"><p style=\"font-size:12px;color:#909090;margin-bottom:-5px\">Non veg</p><div><div class=\"frow f-wrap\"><p class=\"vendor-detail text-bold text-primary v-center margin-r-5\" style=\"font-size:18px;font-weight:600;color:#4a4a4a\"><i class=\"fa fa-inr margin-r-5\"></i><span>3,700</span></p><p class=\"text-primary\" style=\"color:#4a4a4a;font-size:12px\">per plate</p></div></div></div></div><div></div></div></div><div class=\"v-center margin-10\" style=\"justify-content:flex-start;margin-top:-2px;flex-wrap:wrap;min-height:27px\"><div style=\"background-color:#eeeeee;padding:0 6px;margin-right:10px;width:auto;margin-bottom:5px;height:22px;display:flex;align-items:center\"><p style=\"font-size:12px;max-width:140px;width:fit-content;white-space:nowrap;overflow:hidden;text-overflow:ellipsis\" title=\"25-2000 pax\">25-2000 pax</p></div><div style=\"background-color:#eeeeee;padding:0 6px;margin-right:10px;width:auto;margin-bottom:5px;height:22px;display:flex;align-items:center\"><p style=\"font-size:12px;max-width:140px;width:fit-content;white-space:nowrap;overflow:hidden;text-overflow:ellipsis\" title=\"WMG Users Choice Awards Winner\">WMG Users Choice Awards Winner</p></div><div style=\"white-space:nowrap;margin-top:-5px\"><p class=\"pointer\" data-for=\"22581tooltop\" data-tip=\"true\" style=\"text-decoration:underline;font-size:12px;font-weight:600;color:#909090\">+<!-- -->9<!-- --> <!-- -->more</p><div class=\"__react_component_tooltip place-top type-dark\" data-id=\"tooltip\"></div></div></div></div>,\n",
       " <div class=\"vendor-info\" style=\"min-height:160px\"><div class=\"padding-10\" style=\"padding-bottom:0px\"><div class=\"line f-space-between\"><div class=\"frow\" style=\"max-width:70%\"><a class=\"vendor-detail text-bold h6\" href=\"/wedding-venues/JW-Marriott-Hotel-35814\" style=\"max-width:200px;font-size:18px\" target=\"_blank\" title=\"JW Marriott Hotel Bangalore\">JW Marriott Hotel Bangalore</a></div><div class=\"nowrap f-sb-bw\" style=\"overflow:hidden\"><span class=\"StarRatingNew fw-500 center rating-new-4 regular\" style=\"color:;min-width:;max-width:;height:;font-size:16px\"><i class=\"fa fa-star margin-r-5\" style=\"color:#e72e77\"></i>4.0</span><span class=\"review-cnt regular nowrap margin-l-5\" style=\"color:#909090\">(<!-- -->5<!-- --> <!-- -->reviews<!-- -->)</span></div></div><div class=\"line\" style=\"margin-top:5px;align-items:center\"><div class=\"info-icon text-tertiary frow margin-r-10\"><p style=\"margin:0 5px 0 0\"><img alt=\"Location\" height=\"14\" src=\"/static/media/location.417064ed.svg\" style=\"vertical-align:middle\" width=\"10.63\"/></p><p class=\"vendor-detail\"><span>North Bangalore<span>, </span></span><span>Bangalore</span> </p></div><div class=\"info-icon text-tertiary frow margin-r-10 overflow-hidden\"><img alt=\"Venue\" height=\"17\" src=\"/static/media/ResortIcon.00b02371.svg\" style=\"vertical-align:middle\" width=\"14\"/><p class=\"margin-l-5\" style=\"width:230px;white-space:nowrap;overflow:hidden;text-overflow:ellipsis;line-height:normal\" title=\"4 Star &amp; Above Hotels, Banquet Halls\">4 Star &amp; Above Hotels, Banquet Halls</p></div></div></div><div class=\"vendor-price frow margin-10 f-space-between\" style=\"margin-top:-2px\"><div class=\"f-sb-bw\"><div style=\"margin-right:30px\"><div class=\"fcol\"><p style=\"font-size:12px;color:#909090;margin-bottom:-5px\">Veg</p><div><div class=\"frow f-wrap\"><p class=\"vendor-detail text-bold text-primary v-center margin-r-5\" style=\"font-size:18px;font-weight:600;color:#4a4a4a\"><i class=\"fa fa-inr margin-r-5\"></i><span>2,700</span></p><p class=\"text-primary\" style=\"color:#4a4a4a;font-size:12px\">per plate</p></div></div></div></div><div><div class=\"fcol\"><p style=\"font-size:12px;color:#909090;margin-bottom:-5px\">Non veg</p><div><div class=\"frow f-wrap\"><p class=\"vendor-detail text-bold text-primary v-center margin-r-5\" style=\"font-size:18px;font-weight:600;color:#4a4a4a\"><i class=\"fa fa-inr margin-r-5\"></i><span>2,700</span></p><p class=\"text-primary\" style=\"color:#4a4a4a;font-size:12px\">per plate</p></div></div></div></div><div></div></div></div><div class=\"v-center margin-10\" style=\"justify-content:flex-start;margin-top:-2px;flex-wrap:wrap;min-height:27px\"><div style=\"background-color:#eeeeee;padding:0 6px;margin-right:10px;width:auto;margin-bottom:5px;height:22px;display:flex;align-items:center\"><p style=\"font-size:12px;max-width:140px;width:fit-content;white-space:nowrap;overflow:hidden;text-overflow:ellipsis\" title=\"120-1300 pax\">120-1300 pax</p></div><div style=\"background-color:#eeeeee;padding:0 6px;margin-right:10px;width:auto;margin-bottom:5px;height:22px;display:flex;align-items:center\"><p style=\"font-size:12px;max-width:140px;width:fit-content;white-space:nowrap;overflow:hidden;text-overflow:ellipsis\" title=\"281 Rooms\">281 Rooms</p></div><div style=\"white-space:nowrap;margin-top:-5px\"><p class=\"pointer\" data-for=\"8764tooltop\" data-tip=\"true\" style=\"text-decoration:underline;font-size:12px;font-weight:600;color:#909090\">+<!-- -->5<!-- --> <!-- -->more</p><div class=\"__react_component_tooltip place-top type-dark\" data-id=\"tooltip\"></div></div></div></div>,\n",
       " <div class=\"vendor-info\" style=\"min-height:160px\"><div class=\"padding-10\" style=\"padding-bottom:0px\"><div class=\"line f-space-between\"><div class=\"frow\" style=\"max-width:70%\"><a class=\"vendor-detail text-bold h6\" href=\"/wedding-venues/RajKamal-Palace-865845\" style=\"max-width:200px;font-size:18px\" target=\"_blank\" title=\"RajKamal Palace\">RajKamal Palace</a></div><div class=\"nowrap f-sb-bw\" style=\"overflow:hidden\"><span class=\"StarRatingNew fw-500 center rating-new-5 regular\" style=\"color:;min-width:;max-width:;height:;font-size:16px\"><i class=\"fa fa-star margin-r-5\" style=\"color:#e72e77\"></i>5.0</span><span class=\"review-cnt regular nowrap margin-l-5\" style=\"color:#909090\">(<!-- -->4<!-- --> <!-- -->reviews<!-- -->)</span></div></div><div class=\"line\" style=\"margin-top:5px;align-items:center\"><div class=\"info-icon text-tertiary frow margin-r-10\"><p style=\"margin:0 5px 0 0\"><img alt=\"Location\" height=\"14\" src=\"/static/media/location.417064ed.svg\" style=\"vertical-align:middle\" width=\"10.63\"/></p><p class=\"vendor-detail\"><span>Kompally<span>, </span></span><span>Hyderabad</span> </p></div><div class=\"info-icon text-tertiary frow margin-r-10 overflow-hidden\"><img alt=\"Venue\" height=\"17\" src=\"/static/media/ResortIcon.00b02371.svg\" style=\"vertical-align:middle\" width=\"14\"/><p class=\"margin-l-5\" style=\"width:230px;white-space:nowrap;overflow:hidden;text-overflow:ellipsis;line-height:normal\" title=\"Lawns / Farmhouses, Resorts\">Lawns / Farmhouses, Resorts</p></div></div></div><div class=\"vendor-price frow margin-10 f-space-between\" style=\"margin-top:-2px\"><div class=\"f-sb-bw\"><div style=\"margin-right:0\"></div><div></div><div><div class=\"fcol\" style=\"margin-top:15px\"><div><div class=\"frow f-wrap\"><p class=\"vendor-detail text-bold text-primary v-center margin-r-5\" style=\"font-size:18px;font-weight:600;color:#4a4a4a\"><span class=\"\" style=\"font-size:18px\">On Request</span></p></div></div></div></div></div></div><div class=\"v-center margin-10\" style=\"justify-content:flex-start;margin-top:-2px;flex-wrap:wrap;min-height:27px\"><div style=\"background-color:#eeeeee;padding:0 6px;margin-right:10px;width:auto;margin-bottom:5px;height:22px;display:flex;align-items:center\"><p style=\"font-size:12px;max-width:140px;width:fit-content;white-space:nowrap;overflow:hidden;text-overflow:ellipsis\" title=\"200-500 pax\">200-500 pax</p></div><div style=\"background-color:#eeeeee;padding:0 6px;margin-right:10px;width:auto;margin-bottom:5px;height:22px;display:flex;align-items:center\"><p style=\"font-size:12px;max-width:140px;width:fit-content;white-space:nowrap;overflow:hidden;text-overflow:ellipsis\" title=\"02 Rooms\">02 Rooms</p></div><div style=\"white-space:nowrap;margin-top:-5px\"><p class=\"pointer\" data-for=\"82325tooltop\" data-tip=\"true\" style=\"text-decoration:underline;font-size:12px;font-weight:600;color:#909090\">+<!-- -->6<!-- --> <!-- -->more</p><div class=\"__react_component_tooltip place-top type-dark\" data-id=\"tooltip\"></div></div></div></div>,\n",
       " <div class=\"vendor-info\" style=\"min-height:160px\"><div class=\"padding-10\" style=\"padding-bottom:0px\"><div class=\"line f-space-between\"><div class=\"frow\" style=\"max-width:70%\"><a class=\"vendor-detail text-bold h6\" href=\"/wedding-venues/Seven-Seas-Hotel-rohini-448858\" style=\"max-width:200px;font-size:18px\" target=\"_blank\" title=\"Seven Seas Hotel\">Seven Seas Hotel</a></div><div class=\"nowrap f-sb-bw\" style=\"overflow:hidden\"><span class=\"StarRatingNew fw-500 center rating-new-4 regular\" style=\"color:;min-width:;max-width:;height:;font-size:16px\"><i class=\"fa fa-star margin-r-5\" style=\"color:#e72e77\"></i>4.2</span><span class=\"review-cnt regular nowrap margin-l-5\" style=\"color:#909090\">(<!-- -->32<!-- --> <!-- -->reviews<!-- -->)</span></div></div><div class=\"line\" style=\"margin-top:5px;align-items:center\"><div class=\"info-icon text-tertiary frow margin-r-10\"><p style=\"margin:0 5px 0 0\"><img alt=\"Location\" height=\"14\" src=\"/static/media/location.417064ed.svg\" style=\"vertical-align:middle\" width=\"10.63\"/></p><p class=\"vendor-detail\"><span>Rohini<span>, </span></span><span>Delhi NCR</span> </p></div><div class=\"info-icon text-tertiary frow margin-r-10 overflow-hidden\"><img alt=\"Venue\" height=\"17\" src=\"/static/media/ResortIcon.00b02371.svg\" style=\"vertical-align:middle\" width=\"14\"/><p class=\"margin-l-5\" style=\"width:230px;white-space:nowrap;overflow:hidden;text-overflow:ellipsis;line-height:normal\" title=\"4 Star &amp; Above Hotels, Banquet Halls\">4 Star &amp; Above Hotels, Banquet Halls</p></div></div></div><div class=\"vendor-price frow margin-10 f-space-between\" style=\"margin-top:-2px\"><div class=\"f-sb-bw\"><div style=\"margin-right:30px\"><div class=\"fcol\"><p style=\"font-size:12px;color:#909090;margin-bottom:-5px\">Veg</p><div><div class=\"frow f-wrap\"><p class=\"vendor-detail text-bold text-primary v-center margin-r-5\" style=\"font-size:18px;font-weight:600;color:#4a4a4a\"><i class=\"fa fa-inr margin-r-5\"></i><span>2,600</span></p><p class=\"text-primary\" style=\"color:#4a4a4a;font-size:12px\">per plate</p></div></div></div></div><div><div class=\"fcol\"><p style=\"font-size:12px;color:#909090;margin-bottom:-5px\">Non veg</p><div><div class=\"frow f-wrap\"><p class=\"vendor-detail text-bold text-primary v-center margin-r-5\" style=\"font-size:18px;font-weight:600;color:#4a4a4a\"><i class=\"fa fa-inr margin-r-5\"></i><span>2,800</span></p><p class=\"text-primary\" style=\"color:#4a4a4a;font-size:12px\">per plate</p></div></div></div></div><div></div></div></div><div class=\"v-center margin-10\" style=\"justify-content:flex-start;margin-top:-2px;flex-wrap:wrap;min-height:27px\"><div style=\"background-color:#eeeeee;padding:0 6px;margin-right:10px;width:auto;margin-bottom:5px;height:22px;display:flex;align-items:center\"><p style=\"font-size:12px;max-width:140px;width:fit-content;white-space:nowrap;overflow:hidden;text-overflow:ellipsis\" title=\"80-1275 pax\">80-1275 pax</p></div><div style=\"background-color:#eeeeee;padding:0 6px;margin-right:10px;width:auto;margin-bottom:5px;height:22px;display:flex;align-items:center\"><p style=\"font-size:12px;max-width:140px;width:fit-content;white-space:nowrap;overflow:hidden;text-overflow:ellipsis\" title=\"107 Rooms\">107 Rooms</p></div><div style=\"white-space:nowrap;margin-top:-5px\"><p class=\"pointer\" data-for=\"41522tooltop\" data-tip=\"true\" style=\"text-decoration:underline;font-size:12px;font-weight:600;color:#909090\">+<!-- -->5<!-- --> <!-- -->more</p><div class=\"__react_component_tooltip place-top type-dark\" data-id=\"tooltip\"></div></div></div></div>,\n",
       " <div class=\"vendor-info\" style=\"min-height:160px\"><div class=\"padding-10\" style=\"padding-bottom:0px\"><div class=\"line f-space-between\"><div class=\"frow\" style=\"max-width:70%\"><a class=\"vendor-detail text-bold h6\" href=\"/wedding-venues/White-Mist-by-Happy-Retreats-767487\" style=\"max-width:200px;font-size:18px\" target=\"_blank\" title=\"White Mist by Happy Retreats\">White Mist by Happy Retreats</a></div><div class=\"nowrap f-sb-bw\" style=\"overflow:hidden\"><span class=\"StarRatingNew fw-500 center rating-new-5 regular\" style=\"color:;min-width:;max-width:;height:;font-size:16px\"><i class=\"fa fa-star margin-r-5\" style=\"color:#e72e77\"></i>4.7</span><span class=\"review-cnt regular nowrap margin-l-5\" style=\"color:#909090\">(<!-- -->15<!-- --> <!-- -->reviews<!-- -->)</span></div></div><div class=\"line\" style=\"margin-top:5px;align-items:center\"><div class=\"info-icon text-tertiary frow margin-r-10\"><p style=\"margin:0 5px 0 0\"><img alt=\"Location\" height=\"14\" src=\"/static/media/location.417064ed.svg\" style=\"vertical-align:middle\" width=\"10.63\"/></p><p class=\"vendor-detail\"><span>Devanahalli<span>, </span></span><span>Bangalore</span> </p></div><div class=\"info-icon text-tertiary frow margin-r-10 overflow-hidden\"><img alt=\"Venue\" height=\"17\" src=\"/static/media/ResortIcon.00b02371.svg\" style=\"vertical-align:middle\" width=\"14\"/><p class=\"margin-l-5\" style=\"width:230px;white-space:nowrap;overflow:hidden;text-overflow:ellipsis;line-height:normal\" title=\"Banquet Halls, Lawns / Farmhouses\">Banquet Halls, Lawns / Farmhouses</p></div></div></div><div class=\"vendor-price frow margin-10 f-space-between\" style=\"margin-top:-2px\"><div class=\"f-sb-bw\"><div style=\"margin-right:30px\"><div class=\"fcol\"><p style=\"font-size:12px;color:#909090;margin-bottom:-5px\">Veg</p><div><div class=\"frow f-wrap\"><p class=\"vendor-detail text-bold text-primary v-center margin-r-5\" style=\"font-size:18px;font-weight:600;color:#4a4a4a\"><i class=\"fa fa-inr margin-r-5\"></i><span>1,000</span></p><p class=\"text-primary\" style=\"color:#4a4a4a;font-size:12px\">per plate</p></div></div></div></div><div><div class=\"fcol\"><p style=\"font-size:12px;color:#909090;margin-bottom:-5px\">Non veg</p><div><div class=\"frow f-wrap\"><p class=\"vendor-detail text-bold text-primary v-center margin-r-5\" style=\"font-size:18px;font-weight:600;color:#4a4a4a\"><i class=\"fa fa-inr margin-r-5\"></i><span>1,200</span></p><p class=\"text-primary\" style=\"color:#4a4a4a;font-size:12px\">per plate</p></div></div></div></div><div></div></div></div><div class=\"v-center margin-10\" style=\"justify-content:flex-start;margin-top:-2px;flex-wrap:wrap;min-height:27px\"><div style=\"background-color:#eeeeee;padding:0 6px;margin-right:10px;width:auto;margin-bottom:5px;height:22px;display:flex;align-items:center\"><p style=\"font-size:12px;max-width:140px;width:fit-content;white-space:nowrap;overflow:hidden;text-overflow:ellipsis\" title=\"50-700 pax\">50-700 pax</p></div><div style=\"background-color:#eeeeee;padding:0 6px;margin-right:10px;width:auto;margin-bottom:5px;height:22px;display:flex;align-items:center\"><p style=\"font-size:12px;max-width:140px;width:fit-content;white-space:nowrap;overflow:hidden;text-overflow:ellipsis\" title=\"21 Rooms\">21 Rooms</p></div><div style=\"white-space:nowrap;margin-top:-5px\"><p class=\"pointer\" data-for=\"72598tooltop\" data-tip=\"true\" style=\"text-decoration:underline;font-size:12px;font-weight:600;color:#909090\">+<!-- -->7<!-- --> <!-- -->more</p><div class=\"__react_component_tooltip place-top type-dark\" data-id=\"tooltip\"></div></div></div></div>,\n",
       " <div class=\"vendor-info\" style=\"min-height:160px\"><div class=\"padding-10\" style=\"padding-bottom:0px\"><div class=\"line f-space-between\"><div class=\"frow\" style=\"max-width:70%\"><a class=\"vendor-detail text-bold h6\" href=\"/wedding-venues/Longuinhos-Beach-Resort-Goa-519757\" style=\"max-width:200px;font-size:18px\" target=\"_blank\" title=\"Longuinhos Beach Resort Goa \">Longuinhos Beach Resort Goa </a></div><div class=\"nowrap f-sb-bw\" style=\"overflow:hidden\"><span class=\"StarRatingNew fw-500 center rating-new-4 regular\" style=\"color:;min-width:;max-width:;height:;font-size:16px\"><i class=\"fa fa-star margin-r-5\" style=\"color:#e72e77\"></i>4.1</span><span class=\"review-cnt regular nowrap margin-l-5\" style=\"color:#909090\">(<!-- -->12<!-- --> <!-- -->reviews<!-- -->)</span></div></div><div class=\"line\" style=\"margin-top:5px;align-items:center\"><div class=\"info-icon text-tertiary frow margin-r-10\"><p style=\"margin:0 5px 0 0\"><img alt=\"Location\" height=\"14\" src=\"/static/media/location.417064ed.svg\" style=\"vertical-align:middle\" width=\"10.63\"/></p><p class=\"vendor-detail\"><span>Majorda<span>, </span></span><span>Goa</span> </p></div><div class=\"info-icon text-tertiary frow margin-r-10 overflow-hidden\"><img alt=\"Venue\" height=\"17\" src=\"/static/media/ResortIcon.00b02371.svg\" style=\"vertical-align:middle\" width=\"14\"/><p class=\"margin-l-5\" style=\"width:230px;white-space:nowrap;overflow:hidden;text-overflow:ellipsis;line-height:normal\" title=\"Banquet Halls, Lawns / Farmhouses\">Banquet Halls, Lawns / Farmhouses</p></div></div></div><div class=\"vendor-price frow margin-10 f-space-between\" style=\"margin-top:-2px\"><div class=\"f-sb-bw\"><div style=\"margin-right:30px\"><div class=\"fcol\"><p style=\"font-size:12px;color:#909090;margin-bottom:-5px\">Veg</p><div><div class=\"frow f-wrap\"><p class=\"vendor-detail text-bold text-primary v-center margin-r-5\" style=\"font-size:18px;font-weight:600;color:#4a4a4a\"><i class=\"fa fa-inr margin-r-5\"></i><span>1,200</span></p><p class=\"text-primary\" style=\"color:#4a4a4a;font-size:12px\">per plate</p></div></div></div></div><div><div class=\"fcol\"><p style=\"font-size:12px;color:#909090;margin-bottom:-5px\">Non veg</p><div><div class=\"frow f-wrap\"><p class=\"vendor-detail text-bold text-primary v-center margin-r-5\" style=\"font-size:18px;font-weight:600;color:#4a4a4a\"><i class=\"fa fa-inr margin-r-5\"></i><span>1,200</span></p><p class=\"text-primary\" style=\"color:#4a4a4a;font-size:12px\">per plate</p></div></div></div></div><div></div></div></div><div class=\"v-center margin-10\" style=\"justify-content:flex-start;margin-top:-2px;flex-wrap:wrap;min-height:27px\"><div style=\"background-color:#eeeeee;padding:0 6px;margin-right:10px;width:auto;margin-bottom:5px;height:22px;display:flex;align-items:center\"><p style=\"font-size:12px;max-width:140px;width:fit-content;white-space:nowrap;overflow:hidden;text-overflow:ellipsis\" title=\"80-900 pax\">80-900 pax</p></div><div style=\"background-color:#eeeeee;padding:0 6px;margin-right:10px;width:auto;margin-bottom:5px;height:22px;display:flex;align-items:center\"><p style=\"font-size:12px;max-width:140px;width:fit-content;white-space:nowrap;overflow:hidden;text-overflow:ellipsis\" title=\"WMG Users Choice Awards Winner\">WMG Users Choice Awards Winner</p></div><div style=\"white-space:nowrap;margin-top:-5px\"><p class=\"pointer\" data-for=\"50706tooltop\" data-tip=\"true\" style=\"text-decoration:underline;font-size:12px;font-weight:600;color:#909090\">+<!-- -->7<!-- --> <!-- -->more</p><div class=\"__react_component_tooltip place-top type-dark\" data-id=\"tooltip\"></div></div></div></div>,\n",
       " <div class=\"vendor-info\" style=\"min-height:160px\"><div class=\"padding-10\" style=\"padding-bottom:0px\"><div class=\"line f-space-between\"><div class=\"frow\" style=\"max-width:70%\"><a class=\"vendor-detail text-bold h6\" href=\"/wedding-venues/Celebrity-Club-21121\" style=\"max-width:200px;font-size:18px\" target=\"_blank\" title=\"Celebrity Resort\">Celebrity Resort</a></div><div class=\"nowrap f-sb-bw\" style=\"overflow:hidden\"><span class=\"StarRatingNew fw-500 center rating-new-5 regular\" style=\"color:;min-width:;max-width:;height:;font-size:16px\"><i class=\"fa fa-star margin-r-5\" style=\"color:#e72e77\"></i>5.0</span><span class=\"review-cnt regular nowrap margin-l-5\" style=\"color:#909090\">(<!-- -->16<!-- --> <!-- -->reviews<!-- -->)</span></div></div><div class=\"line\" style=\"margin-top:5px;align-items:center\"><div class=\"info-icon text-tertiary frow margin-r-10\"><p style=\"margin:0 5px 0 0\"><img alt=\"Location\" height=\"14\" src=\"/static/media/location.417064ed.svg\" style=\"vertical-align:middle\" width=\"10.63\"/></p><p class=\"vendor-detail\"><span>Shamirpet<span>, </span></span><span>Hyderabad</span> </p></div><div class=\"info-icon text-tertiary frow margin-r-10 overflow-hidden\"><img alt=\"Venue\" height=\"17\" src=\"/static/media/ResortIcon.00b02371.svg\" style=\"vertical-align:middle\" width=\"14\"/><p class=\"margin-l-5\" style=\"width:230px;white-space:nowrap;overflow:hidden;text-overflow:ellipsis;line-height:normal\" title=\"Banquet Halls, Lawns / Farmhouses\">Banquet Halls, Lawns / Farmhouses</p></div></div></div><div class=\"vendor-price frow margin-10 f-space-between\" style=\"margin-top:-2px\"><div class=\"f-sb-bw\"><div style=\"margin-right:30px\"><div class=\"fcol\"><p style=\"font-size:12px;color:#909090;margin-bottom:-5px\">Veg</p><div><div class=\"frow f-wrap\"><p class=\"vendor-detail text-bold text-primary v-center margin-r-5\" style=\"font-size:18px;font-weight:600;color:#4a4a4a\"><i class=\"fa fa-inr margin-r-5\"></i><span>1,400</span></p></div></div></div></div><div><div class=\"fcol\"><p style=\"font-size:12px;color:#909090;margin-bottom:-5px\">Non veg</p><div><div class=\"frow f-wrap\"><p class=\"vendor-detail text-bold text-primary v-center margin-r-5\" style=\"font-size:18px;font-weight:600;color:#4a4a4a\"><i class=\"fa fa-inr margin-r-5\"></i><span>1,600</span></p></div></div></div></div><div></div></div></div><div class=\"v-center margin-10\" style=\"justify-content:flex-start;margin-top:-2px;flex-wrap:wrap;min-height:27px\"><div style=\"background-color:#eeeeee;padding:0 6px;margin-right:10px;width:auto;margin-bottom:5px;height:22px;display:flex;align-items:center\"><p style=\"font-size:12px;max-width:140px;width:fit-content;white-space:nowrap;overflow:hidden;text-overflow:ellipsis\" title=\"50-5000 pax\">50-5000 pax</p></div><div style=\"background-color:#eeeeee;padding:0 6px;margin-right:10px;width:auto;margin-bottom:5px;height:22px;display:flex;align-items:center\"><p style=\"font-size:12px;max-width:140px;width:fit-content;white-space:nowrap;overflow:hidden;text-overflow:ellipsis\" title=\"75 Rooms\">75 Rooms</p></div><div style=\"white-space:nowrap;margin-top:-5px\"><p class=\"pointer\" data-for=\"5240tooltop\" data-tip=\"true\" style=\"text-decoration:underline;font-size:12px;font-weight:600;color:#909090\">+<!-- -->7<!-- --> <!-- -->more</p><div class=\"__react_component_tooltip place-top type-dark\" data-id=\"tooltip\"></div></div></div></div>,\n",
       " <div class=\"vendor-info\" style=\"min-height:160px\"><div class=\"padding-10\" style=\"padding-bottom:0px\"><div class=\"line f-space-between\"><div class=\"frow\" style=\"max-width:70%\"><a class=\"vendor-detail text-bold h6\" href=\"/wedding-venues/itc-welcom-hotel-dwarka-23188\" style=\"max-width:200px;font-size:18px\" target=\"_blank\" title=\"ITC WelcomHotel Dwarka\">ITC WelcomHotel Dwarka</a></div><div class=\"nowrap f-sb-bw\" style=\"overflow:hidden\"><span class=\"StarRatingNew fw-500 center rating-new-5 regular\" style=\"color:;min-width:;max-width:;height:;font-size:16px\"><i class=\"fa fa-star margin-r-5\" style=\"color:#e72e77\"></i>4.6</span><span class=\"review-cnt regular nowrap margin-l-5\" style=\"color:#909090\">(<!-- -->10<!-- --> <!-- -->reviews<!-- -->)</span></div></div><div class=\"line\" style=\"margin-top:5px;align-items:center\"><div class=\"info-icon text-tertiary frow margin-r-10\"><p style=\"margin:0 5px 0 0\"><img alt=\"Location\" height=\"14\" src=\"/static/media/location.417064ed.svg\" style=\"vertical-align:middle\" width=\"10.63\"/></p><p class=\"vendor-detail\"><span>Dwarka<span>, </span></span><span>Delhi NCR</span> </p></div><div class=\"info-icon text-tertiary frow margin-r-10 overflow-hidden\"><img alt=\"Venue\" height=\"17\" src=\"/static/media/ResortIcon.00b02371.svg\" style=\"vertical-align:middle\" width=\"14\"/><p class=\"margin-l-5\" style=\"width:230px;white-space:nowrap;overflow:hidden;text-overflow:ellipsis;line-height:normal\" title=\"4 Star &amp; Above Hotels, Banquet Halls\">4 Star &amp; Above Hotels, Banquet Halls</p></div></div></div><div class=\"vendor-price frow margin-10 f-space-between\" style=\"margin-top:-2px\"><div class=\"f-sb-bw\"><div style=\"margin-right:30px\"><div class=\"fcol\"><p style=\"font-size:12px;color:#909090;margin-bottom:-5px\">Veg</p><div><div class=\"frow f-wrap\"><p class=\"vendor-detail text-bold text-primary v-center margin-r-5\" style=\"font-size:18px;font-weight:600;color:#4a4a4a\"><i class=\"fa fa-inr margin-r-5\"></i><span>3,400</span></p><p class=\"text-primary\" style=\"color:#4a4a4a;font-size:12px\">per plate</p></div></div></div></div><div><div class=\"fcol\"><p style=\"font-size:12px;color:#909090;margin-bottom:-5px\">Non veg</p><div><div class=\"frow f-wrap\"><p class=\"vendor-detail text-bold text-primary v-center margin-r-5\" style=\"font-size:18px;font-weight:600;color:#4a4a4a\"><i class=\"fa fa-inr margin-r-5\"></i><span>3,800</span></p><p class=\"text-primary\" style=\"color:#4a4a4a;font-size:12px\">per plate</p></div></div></div></div><div></div></div></div><div class=\"v-center margin-10\" style=\"justify-content:flex-start;margin-top:-2px;flex-wrap:wrap;min-height:27px\"><div style=\"background-color:#eeeeee;padding:0 6px;margin-right:10px;width:auto;margin-bottom:5px;height:22px;display:flex;align-items:center\"><p style=\"font-size:12px;max-width:140px;width:fit-content;white-space:nowrap;overflow:hidden;text-overflow:ellipsis\" title=\"25-500 pax\">25-500 pax</p></div><div style=\"background-color:#eeeeee;padding:0 6px;margin-right:10px;width:auto;margin-bottom:5px;height:22px;display:flex;align-items:center\"><p style=\"font-size:12px;max-width:140px;width:fit-content;white-space:nowrap;overflow:hidden;text-overflow:ellipsis\" title=\"403 Rooms\">403 Rooms</p></div><div style=\"white-space:nowrap;margin-top:-5px\"><p class=\"pointer\" data-for=\"6041tooltop\" data-tip=\"true\" style=\"text-decoration:underline;font-size:12px;font-weight:600;color:#909090\">+<!-- -->6<!-- --> <!-- -->more</p><div class=\"__react_component_tooltip place-top type-dark\" data-id=\"tooltip\"></div></div></div></div>,\n",
       " <div class=\"vendor-info\" style=\"min-height:160px\"><div class=\"padding-10\" style=\"padding-bottom:0px\"><div class=\"line f-space-between\"><div class=\"frow\" style=\"max-width:70%\"><a class=\"vendor-detail text-bold h6\" href=\"/wedding-venues/The-Bristol-Hotel-gurgaon-998792\" style=\"max-width:200px;font-size:18px\" target=\"_blank\" title=\"The Bristol Hotel\">The Bristol Hotel</a></div><div class=\"nowrap f-sb-bw\" style=\"overflow:hidden\"><span class=\"StarRatingNew fw-500 center rating-new-4 regular\" style=\"color:;min-width:;max-width:;height:;font-size:16px\"><i class=\"fa fa-star margin-r-5\" style=\"color:#e72e77\"></i>4.4</span><span class=\"review-cnt regular nowrap margin-l-5\" style=\"color:#909090\">(<!-- -->28<!-- --> <!-- -->reviews<!-- -->)</span></div></div><div class=\"line\" style=\"margin-top:5px;align-items:center\"><div class=\"info-icon text-tertiary frow margin-r-10\"><p style=\"margin:0 5px 0 0\"><img alt=\"Location\" height=\"14\" src=\"/static/media/location.417064ed.svg\" style=\"vertical-align:middle\" width=\"10.63\"/></p><p class=\"vendor-detail\"><span>DLF Phase 1<span>, </span></span><span>Gurgaon</span> </p></div><div class=\"info-icon text-tertiary frow margin-r-10 overflow-hidden\"><img alt=\"Venue\" height=\"17\" src=\"/static/media/ResortIcon.00b02371.svg\" style=\"vertical-align:middle\" width=\"14\"/><p class=\"margin-l-5\" style=\"width:230px;white-space:nowrap;overflow:hidden;text-overflow:ellipsis;line-height:normal\" title=\"4 Star &amp; Above Hotels, Banquet Halls\">4 Star &amp; Above Hotels, Banquet Halls</p></div></div></div><div class=\"vendor-price frow margin-10 f-space-between\" style=\"margin-top:-2px\"><div class=\"f-sb-bw\"><div style=\"margin-right:30px\"><div class=\"fcol\"><p style=\"font-size:12px;color:#909090;margin-bottom:-5px\">Veg</p><div><div class=\"frow f-wrap\"><p class=\"vendor-detail text-bold text-primary v-center margin-r-5\" style=\"font-size:18px;font-weight:600;color:#4a4a4a\"><i class=\"fa fa-inr margin-r-5\"></i><span>2,000</span></p></div></div></div></div><div><div class=\"fcol\"><p style=\"font-size:12px;color:#909090;margin-bottom:-5px\">Non veg</p><div><div class=\"frow f-wrap\"><p class=\"vendor-detail text-bold text-primary v-center margin-r-5\" style=\"font-size:18px;font-weight:600;color:#4a4a4a\"><i class=\"fa fa-inr margin-r-5\"></i><span>2,200</span></p></div></div></div></div><div></div></div></div><div class=\"v-center margin-10\" style=\"justify-content:flex-start;margin-top:-2px;flex-wrap:wrap;min-height:27px\"><div style=\"background-color:#eeeeee;padding:0 6px;margin-right:10px;width:auto;margin-bottom:5px;height:22px;display:flex;align-items:center\"><p style=\"font-size:12px;max-width:140px;width:fit-content;white-space:nowrap;overflow:hidden;text-overflow:ellipsis\" title=\"50-1200 pax\">50-1200 pax</p></div><div style=\"background-color:#eeeeee;padding:0 6px;margin-right:10px;width:auto;margin-bottom:5px;height:22px;display:flex;align-items:center\"><p style=\"font-size:12px;max-width:140px;width:fit-content;white-space:nowrap;overflow:hidden;text-overflow:ellipsis\" title=\"83 Rooms\">83 Rooms</p></div><div style=\"white-space:nowrap;margin-top:-5px\"><p class=\"pointer\" data-for=\"96436tooltop\" data-tip=\"true\" style=\"text-decoration:underline;font-size:12px;font-weight:600;color:#909090\">+<!-- -->6<!-- --> <!-- -->more</p><div class=\"__react_component_tooltip place-top type-dark\" data-id=\"tooltip\"></div></div></div></div>,\n",
       " <div class=\"vendor-info\" style=\"min-height:160px\"><div class=\"padding-10\" style=\"padding-bottom:0px\"><div class=\"line f-space-between\"><div class=\"frow\" style=\"max-width:70%\"><a class=\"vendor-detail text-bold h6\" href=\"/wedding-venues/Radisson-Blu-Mumbai-International-Airport-2351466\" style=\"max-width:200px;font-size:18px\" target=\"_blank\" title=\"Radisson Blu Mumbai International Airport\">Radisson Blu Mumbai International Airport</a></div><div class=\"nowrap f-sb-bw\" style=\"overflow:hidden\"><span class=\"StarRatingNew fw-500 center rating-new-5 regular\" style=\"color:;min-width:;max-width:;height:;font-size:16px\"><i class=\"fa fa-star margin-r-5\" style=\"color:#e72e77\"></i>5.0</span><span class=\"review-cnt regular nowrap margin-l-5\" style=\"color:#909090\">(<!-- -->1<!-- --> <!-- -->review<!-- -->)</span></div></div><div class=\"line\" style=\"margin-top:5px;align-items:center\"><div class=\"info-icon text-tertiary frow margin-r-10\"><p style=\"margin:0 5px 0 0\"><img alt=\"Location\" height=\"14\" src=\"/static/media/location.417064ed.svg\" style=\"vertical-align:middle\" width=\"10.63\"/></p><p class=\"vendor-detail\"><span>Andheri East<span>, </span></span><span>Mumbai</span> </p></div><div class=\"info-icon text-tertiary frow margin-r-10 overflow-hidden\"><img alt=\"Venue\" height=\"17\" src=\"/static/media/ResortIcon.00b02371.svg\" style=\"vertical-align:middle\" width=\"14\"/><p class=\"margin-l-5\" style=\"width:230px;white-space:nowrap;overflow:hidden;text-overflow:ellipsis;line-height:normal\" title=\"4 Star &amp; Above Hotels, Banquet Halls\">4 Star &amp; Above Hotels, Banquet Halls</p></div></div></div><div class=\"vendor-price frow margin-10 f-space-between\" style=\"margin-top:-2px\"><div class=\"f-sb-bw\"><div style=\"margin-right:30px\"><div class=\"fcol\"><p style=\"font-size:12px;color:#909090;margin-bottom:-5px\">Veg</p><div><div class=\"frow f-wrap\"><p class=\"vendor-detail text-bold text-primary v-center margin-r-5\" style=\"font-size:18px;font-weight:600;color:#4a4a4a\"><i class=\"fa fa-inr margin-r-5\"></i><span>2,900</span></p><p class=\"text-primary\" style=\"color:#4a4a4a;font-size:12px\">per plate</p></div></div></div></div><div><div class=\"fcol\"><p style=\"font-size:12px;color:#909090;margin-bottom:-5px\">Non veg</p><div><div class=\"frow f-wrap\"><p class=\"vendor-detail text-bold text-primary v-center margin-r-5\" style=\"font-size:18px;font-weight:600;color:#4a4a4a\"><i class=\"fa fa-inr margin-r-5\"></i><span>3,200</span></p><p class=\"text-primary\" style=\"color:#4a4a4a;font-size:12px\">per plate</p></div></div></div></div><div></div></div></div><div class=\"v-center margin-10\" style=\"justify-content:flex-start;margin-top:-2px;flex-wrap:wrap;min-height:27px\"><div style=\"background-color:#eeeeee;padding:0 6px;margin-right:10px;width:auto;margin-bottom:5px;height:22px;display:flex;align-items:center\"><p style=\"font-size:12px;max-width:140px;width:fit-content;white-space:nowrap;overflow:hidden;text-overflow:ellipsis\" title=\"20 Rooms\">20 Rooms</p></div><div style=\"background-color:#eeeeee;padding:0 6px;margin-right:10px;width:auto;margin-bottom:5px;height:22px;display:flex;align-items:center\"><p style=\"font-size:12px;max-width:140px;width:fit-content;white-space:nowrap;overflow:hidden;text-overflow:ellipsis\" title=\"Indoor\">Indoor</p></div><div style=\"white-space:nowrap;margin-top:-5px\"><p class=\"pointer\" data-for=\"187872tooltop\" data-tip=\"true\" style=\"text-decoration:underline;font-size:12px;font-weight:600;color:#909090\">+<!-- -->5<!-- --> <!-- -->more</p><div class=\"__react_component_tooltip place-top type-dark\" data-id=\"tooltip\"></div></div></div></div>,\n",
       " <div class=\"vendor-info\" style=\"min-height:160px\"><div class=\"padding-10\" style=\"padding-bottom:0px\"><div class=\"line f-space-between\"><div class=\"frow\" style=\"max-width:70%\"><a class=\"vendor-detail text-bold h6\" href=\"/wedding-venues/Tamarind-Tree-14465\" style=\"max-width:200px;font-size:18px\" target=\"_blank\" title=\"The Tamarind Tree\">The Tamarind Tree</a></div><div class=\"nowrap f-sb-bw\" style=\"overflow:hidden\"><span class=\"StarRatingNew fw-500 center rating-new-5 regular\" style=\"color:;min-width:;max-width:;height:;font-size:16px\"><i class=\"fa fa-star margin-r-5\" style=\"color:#e72e77\"></i>4.9</span><span class=\"review-cnt regular nowrap margin-l-5\" style=\"color:#909090\">(<!-- -->29<!-- --> <!-- -->reviews<!-- -->)</span></div></div><div class=\"line\" style=\"margin-top:5px;align-items:center\"><div class=\"info-icon text-tertiary frow margin-r-10\"><p style=\"margin:0 5px 0 0\"><img alt=\"Location\" height=\"14\" src=\"/static/media/location.417064ed.svg\" style=\"vertical-align:middle\" width=\"10.63\"/></p><p class=\"vendor-detail\"><span>South Bangalore<span>, </span></span><span>Bangalore</span> </p></div><div class=\"info-icon text-tertiary frow margin-r-10 overflow-hidden\"><img alt=\"Venue\" height=\"17\" src=\"/static/media/ResortIcon.00b02371.svg\" style=\"vertical-align:middle\" width=\"14\"/><p class=\"margin-l-5\" style=\"width:230px;white-space:nowrap;overflow:hidden;text-overflow:ellipsis;line-height:normal\" title=\"Banquet Halls, Lawns / Farmhouses\">Banquet Halls, Lawns / Farmhouses</p></div></div></div><div class=\"vendor-price frow margin-10 f-space-between\" style=\"margin-top:-2px\"><div class=\"f-sb-bw\"><div style=\"margin-right:0\"></div><div></div><div><div class=\"fcol\" style=\"margin-top:15px\"><div><div class=\"frow f-wrap\"><p class=\"vendor-detail text-bold text-primary v-center margin-r-5\" style=\"font-size:18px;font-weight:600;color:#4a4a4a\"><span class=\"\" style=\"font-size:18px\">Rental Only</span></p></div></div></div></div></div></div><div class=\"v-center margin-10\" style=\"justify-content:flex-start;margin-top:-2px;flex-wrap:wrap;min-height:27px\"><div style=\"background-color:#eeeeee;padding:0 6px;margin-right:10px;width:auto;margin-bottom:5px;height:22px;display:flex;align-items:center\"><p style=\"font-size:12px;max-width:140px;width:fit-content;white-space:nowrap;overflow:hidden;text-overflow:ellipsis\" title=\"10-1500 pax\">10-1500 pax</p></div><div style=\"background-color:#eeeeee;padding:0 6px;margin-right:10px;width:auto;margin-bottom:5px;height:22px;display:flex;align-items:center\"><p style=\"font-size:12px;max-width:140px;width:fit-content;white-space:nowrap;overflow:hidden;text-overflow:ellipsis\" title=\"28 Rooms\">28 Rooms</p></div><div style=\"white-space:nowrap;margin-top:-5px\"><p class=\"pointer\" data-for=\"3069tooltop\" data-tip=\"true\" style=\"text-decoration:underline;font-size:12px;font-weight:600;color:#909090\">+<!-- -->3<!-- --> <!-- -->more</p><div class=\"__react_component_tooltip place-top type-dark\" data-id=\"tooltip\"></div></div></div></div>,\n",
       " <div class=\"vendor-info\" style=\"min-height:160px\"><div class=\"padding-10\" style=\"padding-bottom:0px\"><div class=\"line f-space-between\"><div class=\"frow\" style=\"max-width:70%\"><a class=\"vendor-detail text-bold h6\" href=\"/wedding-venues/Welcomhotel-by-ITC-Hotels-The-Savoy-493938\" style=\"max-width:200px;font-size:18px\" target=\"_blank\" title=\"Welcomhotel by ITC Hotels, The Savoy\">Welcomhotel by ITC Hotels, The Savoy</a></div><div class=\"nowrap f-sb-bw\" style=\"overflow:hidden\"><span class=\"StarRatingNew fw-500 center rating-new-5 regular\" style=\"color:;min-width:;max-width:;height:;font-size:16px\"><i class=\"fa fa-star margin-r-5\" style=\"color:#e72e77\"></i>5.0</span><span class=\"review-cnt regular nowrap margin-l-5\" style=\"color:#909090\">(<!-- -->16<!-- --> <!-- -->reviews<!-- -->)</span></div></div><div class=\"line\" style=\"margin-top:5px;align-items:center\"><div class=\"info-icon text-tertiary frow margin-r-10\"><p style=\"margin:0 5px 0 0\"><img alt=\"Location\" height=\"14\" src=\"/static/media/location.417064ed.svg\" style=\"vertical-align:middle\" width=\"10.63\"/></p><p class=\"vendor-detail\"><span>Mussoorie</span> </p></div><div class=\"info-icon text-tertiary frow margin-r-10 overflow-hidden\"><img alt=\"Venue\" height=\"17\" src=\"/static/media/ResortIcon.00b02371.svg\" style=\"vertical-align:middle\" width=\"14\"/><p class=\"margin-l-5\" style=\"width:230px;white-space:nowrap;overflow:hidden;text-overflow:ellipsis;line-height:normal\" title=\"4 Star &amp; Above Hotels, Banquet Halls\">4 Star &amp; Above Hotels, Banquet Halls</p></div></div></div><div class=\"vendor-price frow margin-10 f-space-between\" style=\"margin-top:-2px\"><div class=\"f-sb-bw\"><div style=\"margin-right:30px\"><div class=\"fcol\"><p style=\"font-size:12px;color:#909090;margin-bottom:-5px\">Veg</p><div><div class=\"frow f-wrap\"><p class=\"vendor-detail text-bold text-primary v-center margin-r-5\" style=\"font-size:18px;font-weight:600;color:#4a4a4a\"><i class=\"fa fa-inr margin-r-5\"></i><span>3,500</span></p><p class=\"text-primary\" style=\"color:#4a4a4a;font-size:12px\">per plate</p></div></div></div></div><div><div class=\"fcol\"><p style=\"font-size:12px;color:#909090;margin-bottom:-5px\">Non veg</p><div><div class=\"frow f-wrap\"><p class=\"vendor-detail text-bold text-primary v-center margin-r-5\" style=\"font-size:18px;font-weight:600;color:#4a4a4a\"><i class=\"fa fa-inr margin-r-5\"></i><span>3,600</span></p><p class=\"text-primary\" style=\"color:#4a4a4a;font-size:12px\">per plate</p></div></div></div></div><div></div></div></div><div class=\"v-center margin-10\" style=\"justify-content:flex-start;margin-top:-2px;flex-wrap:wrap;min-height:27px\"><div style=\"background-color:#eeeeee;padding:0 6px;margin-right:10px;width:auto;margin-bottom:5px;height:22px;display:flex;align-items:center\"><p style=\"font-size:12px;max-width:140px;width:fit-content;white-space:nowrap;overflow:hidden;text-overflow:ellipsis\" title=\"40-400 pax\">40-400 pax</p></div><div style=\"background-color:#eeeeee;padding:0 6px;margin-right:10px;width:auto;margin-bottom:5px;height:22px;display:flex;align-items:center\"><p style=\"font-size:12px;max-width:140px;width:fit-content;white-space:nowrap;overflow:hidden;text-overflow:ellipsis\" title=\"WMG Users Choice Awards Winner\">WMG Users Choice Awards Winner</p></div><div style=\"white-space:nowrap;margin-top:-5px\"><p class=\"pointer\" data-for=\"47163tooltop\" data-tip=\"true\" style=\"text-decoration:underline;font-size:12px;font-weight:600;color:#909090\">+<!-- -->6<!-- --> <!-- -->more</p><div class=\"__react_component_tooltip place-top type-dark\" data-id=\"tooltip\"></div></div></div></div>,\n",
       " <div class=\"vendor-info\" style=\"min-height:160px\"><div class=\"padding-10\" style=\"padding-bottom:0px\"><div class=\"line f-space-between\"><div class=\"frow\" style=\"max-width:70%\"><a class=\"vendor-detail text-bold h6\" href=\"/wedding-venues/Royal-Orchid-Fort-Resort-Mussoorie-508834\" style=\"max-width:200px;font-size:18px\" target=\"_blank\" title=\"Royal Orchid Fort Resort Mussoorie\">Royal Orchid Fort Resort Mussoorie</a></div><div class=\"nowrap f-sb-bw\" style=\"overflow:hidden\"><span class=\"StarRatingNew fw-500 center rating-new-5 regular\" style=\"color:;min-width:;max-width:;height:;font-size:16px\"><i class=\"fa fa-star margin-r-5\" style=\"color:#e72e77\"></i>4.7</span><span class=\"review-cnt regular nowrap margin-l-5\" style=\"color:#909090\">(<!-- -->6<!-- --> <!-- -->reviews<!-- -->)</span></div></div><div class=\"line\" style=\"margin-top:5px;align-items:center\"><div class=\"info-icon text-tertiary frow margin-r-10\"><p style=\"margin:0 5px 0 0\"><img alt=\"Location\" height=\"14\" src=\"/static/media/location.417064ed.svg\" style=\"vertical-align:middle\" width=\"10.63\"/></p><p class=\"vendor-detail\"><span>Mussoorie</span> </p></div><div class=\"info-icon text-tertiary frow margin-r-10 overflow-hidden\"><img alt=\"Venue\" height=\"17\" src=\"/static/media/ResortIcon.00b02371.svg\" style=\"vertical-align:middle\" width=\"14\"/><p class=\"margin-l-5\" style=\"width:230px;white-space:nowrap;overflow:hidden;text-overflow:ellipsis;line-height:normal\" title=\"4 Star &amp; Above Hotels, Banquet Halls\">4 Star &amp; Above Hotels, Banquet Halls</p></div></div></div><div class=\"vendor-price frow margin-10 f-space-between\" style=\"margin-top:-2px\"><div class=\"f-sb-bw\"><div style=\"margin-right:30px\"><div class=\"fcol\"><p style=\"font-size:12px;color:#909090;margin-bottom:-5px\">Veg</p><div><div class=\"frow f-wrap\"><p class=\"vendor-detail text-bold text-primary v-center margin-r-5\" style=\"font-size:18px;font-weight:600;color:#4a4a4a\"><i class=\"fa fa-inr margin-r-5\"></i><span>2,200</span></p><p class=\"text-primary\" style=\"color:#4a4a4a;font-size:12px\">per plate</p></div></div></div></div><div><div class=\"fcol\"><p style=\"font-size:12px;color:#909090;margin-bottom:-5px\">Non veg</p><div><div class=\"frow f-wrap\"><p class=\"vendor-detail text-bold text-primary v-center margin-r-5\" style=\"font-size:18px;font-weight:600;color:#4a4a4a\"><i class=\"fa fa-inr margin-r-5\"></i><span>2,400</span></p><p class=\"text-primary\" style=\"color:#4a4a4a;font-size:12px\">per plate</p></div></div></div></div><div></div></div></div><div class=\"v-center margin-10\" style=\"justify-content:flex-start;margin-top:-2px;flex-wrap:wrap;min-height:27px\"><div style=\"background-color:#eeeeee;padding:0 6px;margin-right:10px;width:auto;margin-bottom:5px;height:22px;display:flex;align-items:center\"><p style=\"font-size:12px;max-width:140px;width:fit-content;white-space:nowrap;overflow:hidden;text-overflow:ellipsis\" title=\"25-250 pax\">25-250 pax</p></div><div style=\"background-color:#eeeeee;padding:0 6px;margin-right:10px;width:auto;margin-bottom:5px;height:22px;display:flex;align-items:center\"><p style=\"font-size:12px;max-width:140px;width:fit-content;white-space:nowrap;overflow:hidden;text-overflow:ellipsis\" title=\"90 Rooms\">90 Rooms</p></div><div style=\"white-space:nowrap;margin-top:-5px\"><p class=\"pointer\" data-for=\"49137tooltop\" data-tip=\"true\" style=\"text-decoration:underline;font-size:12px;font-weight:600;color:#909090\">+<!-- -->5<!-- --> <!-- -->more</p><div class=\"__react_component_tooltip place-top type-dark\" data-id=\"tooltip\"></div></div></div></div>,\n",
       " <div class=\"vendor-info\" style=\"min-height:160px\"><div class=\"padding-10\" style=\"padding-bottom:0px\"><div class=\"line f-space-between\"><div class=\"frow\" style=\"max-width:70%\"><a class=\"vendor-detail text-bold h6\" href=\"/wedding-venues/The-Groves-1074332\" style=\"max-width:200px;font-size:18px\" target=\"_blank\" title=\"The Groves\">The Groves</a></div><div class=\"nowrap f-sb-bw\" style=\"overflow:hidden\"><span class=\"StarRatingNew fw-500 center rating-new-5 regular\" style=\"color:;min-width:;max-width:;height:;font-size:16px\"><i class=\"fa fa-star margin-r-5\" style=\"color:#e72e77\"></i>4.9</span><span class=\"review-cnt regular nowrap margin-l-5\" style=\"color:#909090\">(<!-- -->6<!-- --> <!-- -->reviews<!-- -->)</span></div></div><div class=\"line\" style=\"margin-top:5px;align-items:center\"><div class=\"info-icon text-tertiary frow margin-r-10\"><p style=\"margin:0 5px 0 0\"><img alt=\"Location\" height=\"14\" src=\"/static/media/location.417064ed.svg\" style=\"vertical-align:middle\" width=\"10.63\"/></p><p class=\"vendor-detail\"><span>North Bangalore<span>, </span></span><span>Bangalore</span> </p></div><div class=\"info-icon text-tertiary frow margin-r-10 overflow-hidden\"><img alt=\"Venue\" height=\"17\" src=\"/static/media/ResortIcon.00b02371.svg\" style=\"vertical-align:middle\" width=\"14\"/><p class=\"margin-l-5\" style=\"width:230px;white-space:nowrap;overflow:hidden;text-overflow:ellipsis;line-height:normal\" title=\"Banquet Halls, Lawns / Farmhouses\">Banquet Halls, Lawns / Farmhouses</p></div></div></div><div class=\"vendor-price frow margin-10 f-space-between\" style=\"margin-top:-2px\"><div class=\"f-sb-bw\"><div style=\"margin-right:0\"></div><div></div><div><div class=\"fcol\" style=\"margin-top:15px\"><div><div class=\"frow f-wrap\"><p class=\"vendor-detail text-bold text-primary v-center margin-r-5\" style=\"font-size:18px;font-weight:600;color:#4a4a4a\"><span class=\"\" style=\"font-size:18px\">Rental Only</span></p></div></div></div></div></div></div><div class=\"v-center margin-10\" style=\"justify-content:flex-start;margin-top:-2px;flex-wrap:wrap;min-height:27px\"><div style=\"background-color:#eeeeee;padding:0 6px;margin-right:10px;width:auto;margin-bottom:5px;height:22px;display:flex;align-items:center\"><p style=\"font-size:12px;max-width:140px;width:fit-content;white-space:nowrap;overflow:hidden;text-overflow:ellipsis\" title=\"150-2000 pax\">150-2000 pax</p></div><div style=\"background-color:#eeeeee;padding:0 6px;margin-right:10px;width:auto;margin-bottom:5px;height:22px;display:flex;align-items:center\"><p style=\"font-size:12px;max-width:140px;width:fit-content;white-space:nowrap;overflow:hidden;text-overflow:ellipsis\" title=\"20 Rooms\">20 Rooms</p></div><div style=\"white-space:nowrap;margin-top:-5px\"><p class=\"pointer\" data-for=\"104884tooltop\" data-tip=\"true\" style=\"text-decoration:underline;font-size:12px;font-weight:600;color:#909090\">+<!-- -->5<!-- --> <!-- -->more</p><div class=\"__react_component_tooltip place-top type-dark\" data-id=\"tooltip\"></div></div></div></div>,\n",
       " <div class=\"vendor-info\" style=\"min-height:160px\"><div class=\"padding-10\" style=\"padding-bottom:0px\"><div class=\"line f-space-between\"><div class=\"frow\" style=\"max-width:70%\"><a class=\"vendor-detail text-bold h6\" href=\"/wedding-venues/Arsim-International-582524\" style=\"max-width:200px;font-size:18px\" target=\"_blank\" title=\"Arsim International\">Arsim International</a></div><div class=\"nowrap f-sb-bw\" style=\"overflow:hidden\"><span class=\"StarRatingNew fw-500 center rating-new-5 regular\" style=\"color:;min-width:;max-width:;height:;font-size:16px\"><i class=\"fa fa-star margin-r-5\" style=\"color:#e72e77\"></i>4.6</span><span class=\"review-cnt regular nowrap margin-l-5\" style=\"color:#909090\">(<!-- -->65<!-- --> <!-- -->reviews<!-- -->)</span></div></div><div class=\"line\" style=\"margin-top:5px;align-items:center\"><div class=\"info-icon text-tertiary frow margin-r-10\"><p style=\"margin:0 5px 0 0\"><img alt=\"Location\" height=\"14\" src=\"/static/media/location.417064ed.svg\" style=\"vertical-align:middle\" width=\"10.63\"/></p><p class=\"vendor-detail\"><span>Nirala Nagar<span>, </span></span><span>Lucknow</span> </p></div><div class=\"info-icon text-tertiary frow margin-r-10 overflow-hidden\"><img alt=\"Venue\" height=\"17\" src=\"/static/media/ResortIcon.00b02371.svg\" style=\"vertical-align:middle\" width=\"14\"/><p class=\"margin-l-5\" style=\"width:230px;white-space:nowrap;overflow:hidden;text-overflow:ellipsis;line-height:normal\" title=\"Banquet Halls, Lawns / Farmhouses\">Banquet Halls, Lawns / Farmhouses</p></div></div></div><div class=\"vendor-price frow margin-10 f-space-between\" style=\"margin-top:-2px\"><div class=\"f-sb-bw\"><div style=\"margin-right:30px\"><div class=\"fcol\"><p style=\"font-size:12px;color:#909090;margin-bottom:-5px\">Veg</p><div><div class=\"frow f-wrap\"><p class=\"vendor-detail text-bold text-primary v-center margin-r-5\" style=\"font-size:18px;font-weight:600;color:#4a4a4a\"><i class=\"fa fa-inr margin-r-5\"></i><span>1,000</span></p><p class=\"text-primary\" style=\"color:#4a4a4a;font-size:12px\">per plate</p></div></div></div></div><div><div class=\"fcol\"><p style=\"font-size:12px;color:#909090;margin-bottom:-5px\">Non veg</p><div><div class=\"frow f-wrap\"><p class=\"vendor-detail text-bold text-primary v-center margin-r-5\" style=\"font-size:18px;font-weight:600;color:#4a4a4a\"><i class=\"fa fa-inr margin-r-5\"></i><span>1,200</span></p><p class=\"text-primary\" style=\"color:#4a4a4a;font-size:12px\">per plate</p></div></div></div></div><div></div></div></div><div class=\"v-center margin-10\" style=\"justify-content:flex-start;margin-top:-2px;flex-wrap:wrap;min-height:27px\"><div style=\"background-color:#eeeeee;padding:0 6px;margin-right:10px;width:auto;margin-bottom:5px;height:22px;display:flex;align-items:center\"><p style=\"font-size:12px;max-width:140px;width:fit-content;white-space:nowrap;overflow:hidden;text-overflow:ellipsis\" title=\"600-700 pax\">600-700 pax</p></div><div style=\"background-color:#eeeeee;padding:0 6px;margin-right:10px;width:auto;margin-bottom:5px;height:22px;display:flex;align-items:center\"><p style=\"font-size:12px;max-width:140px;width:fit-content;white-space:nowrap;overflow:hidden;text-overflow:ellipsis\" title=\"25 Rooms\">25 Rooms</p></div><div style=\"white-space:nowrap;margin-top:-5px\"><p class=\"pointer\" data-for=\"55991tooltop\" data-tip=\"true\" style=\"text-decoration:underline;font-size:12px;font-weight:600;color:#909090\">+<!-- -->7<!-- --> <!-- -->more</p><div class=\"__react_component_tooltip place-top type-dark\" data-id=\"tooltip\"></div></div></div></div>]"
      ]
     },
     "execution_count": 90,
     "metadata": {},
     "output_type": "execute_result"
    }
   ],
   "source": []
  },
  {
   "cell_type": "code",
   "execution_count": 37,
   "id": "017b9f1b",
   "metadata": {
    "scrolled": true
   },
   "outputs": [],
   "source": [
    "# Creating empty list to store the data\n",
    "\n",
    "name=[]\n",
    "rating=[]\n",
    "reviews=[]\n",
    "ctype=[]\n",
    "hq=[]\n",
    "old=[]\n",
    "employee=[]\n",
    "description=[]\n",
    "img=[]\n",
    "\n",
    "\n",
    "    \n"
   ]
  },
  {
   "cell_type": "code",
   "execution_count": 38,
   "id": "732a18a2",
   "metadata": {},
   "outputs": [],
   "source": [
    "#creating for loop \n",
    "for i in company:\n",
    "    \n",
    "    name.append(i.find('h2').text.strip())\n",
    "    rating.append(i.find('p',class_='rating').text.strip())\n",
    "    reviews.append(i.find('a',class_='review-count').text.strip())\n",
    "    "
   ]
  },
  {
   "cell_type": "code",
   "execution_count": 39,
   "id": "cbf81be3",
   "metadata": {},
   "outputs": [],
   "source": [
    "for i in company:\n",
    "    ctype.append(i.find_all('p',class_='infoEntity')[0].text.strip())\n",
    "    hq.append(i.find_all('p',class_='infoEntity')[1].text.strip())\n",
    "    old.append(i.find_all('p',class_='infoEntity')[2].text.strip())\n",
    "    employee.append(i.find_all('p',class_='infoEntity')[3].text.strip())\n",
    "    description.append(i.find('p',class_='description').text.strip())\n",
    "    img.append(i.find('img'))"
   ]
  },
  {
   "cell_type": "code",
   "execution_count": 40,
   "id": "2e247da3",
   "metadata": {},
   "outputs": [
    {
     "data": {
      "text/html": [
       "<div>\n",
       "<style scoped>\n",
       "    .dataframe tbody tr th:only-of-type {\n",
       "        vertical-align: middle;\n",
       "    }\n",
       "\n",
       "    .dataframe tbody tr th {\n",
       "        vertical-align: top;\n",
       "    }\n",
       "\n",
       "    .dataframe thead th {\n",
       "        text-align: right;\n",
       "    }\n",
       "</style>\n",
       "<table border=\"1\" class=\"dataframe\">\n",
       "  <thead>\n",
       "    <tr style=\"text-align: right;\">\n",
       "      <th></th>\n",
       "      <th>name</th>\n",
       "      <th>rating</th>\n",
       "      <th>reviews</th>\n",
       "      <th>ctype</th>\n",
       "      <th>hq</th>\n",
       "      <th>old</th>\n",
       "      <th>employee</th>\n",
       "      <th>description</th>\n",
       "      <th>img</th>\n",
       "    </tr>\n",
       "  </thead>\n",
       "  <tbody>\n",
       "  </tbody>\n",
       "</table>\n",
       "</div>"
      ],
      "text/plain": [
       "Empty DataFrame\n",
       "Columns: [name, rating, reviews, ctype, hq, old, employee, description, img]\n",
       "Index: []"
      ]
     },
     "execution_count": 40,
     "metadata": {},
     "output_type": "execute_result"
    }
   ],
   "source": [
    "# creating a data frame of collected data:\n",
    "\n",
    "d={'name':name,'rating':rating,'reviews':reviews,'ctype':ctype,'hq':hq,'old':old,'employee':employee,'description':description,'img':img}\n",
    "    \n",
    "\n",
    "df=pd.DataFrame(d)\n",
    "\n",
    "df"
   ]
  },
  {
   "cell_type": "code",
   "execution_count": null,
   "id": "fea1b3a4",
   "metadata": {},
   "outputs": [],
   "source": []
  },
  {
   "cell_type": "code",
   "execution_count": null,
   "id": "c9abd7b2",
   "metadata": {},
   "outputs": [],
   "source": []
  },
  {
   "cell_type": "code",
   "execution_count": null,
   "id": "0fbd2834",
   "metadata": {},
   "outputs": [],
   "source": []
  },
  {
   "cell_type": "code",
   "execution_count": null,
   "id": "70902f96",
   "metadata": {},
   "outputs": [],
   "source": [
    "url=\"https://www.wedmegood.com/vendors/all/wedding-venues/?page=1\"\n",
    "response=requests.get(url).text\n",
    "    \n",
    "soup = BeautifulSoup(response,\"lxml\")\n",
    "    \n",
    "    \n",
    "venue_info = soup.find_all('div', {'class': 'vendor-info'})"
   ]
  },
  {
   "cell_type": "code",
   "execution_count": 91,
   "id": "2d3d8d99",
   "metadata": {},
   "outputs": [],
   "source": [
    "Name=[]\n",
    "Location=[]\n",
    "Venue_type=[]\n",
    "veg_plate_price=[]\n",
    "non_veg_plate_price=[]\n",
    "Capacity=[]\n",
    "Rooms=[]\n",
    "Ratings=[]"
   ]
  },
  {
   "cell_type": "code",
   "execution_count": null,
   "id": "ab37f5ed",
   "metadata": {},
   "outputs": [],
   "source": [
    "for venue in venue_info:\n",
    "        try:\n",
    "            Name.append(venue.find('a',class_=\"vendor-detail text-bold h6\").text.strip())\n",
    "            Location.append(venue.find('p',class_=\"vendor-detail\").text.strip())\n",
    "            Venue_type.append(venue.find('p',class_=\"margin-l-5\").text.strip())\n",
    "            \n",
    "        except:\n",
    "            Name.append(np.nan)\n",
    "            Location.append(np.nan)\n",
    "            Venue_type.append(np.nan)"
   ]
  },
  {
   "cell_type": "code",
   "execution_count": 92,
   "id": "2e1ec9fb",
   "metadata": {},
   "outputs": [],
   "source": [
    "venue_price=soup.find_all('p',class_=\"vendor-detail text-bold text-primary v-center margin-r-5\")"
   ]
  },
  {
   "cell_type": "code",
   "execution_count": 93,
   "id": "0340bc7e",
   "metadata": {},
   "outputs": [],
   "source": [
    "all_price=[]"
   ]
  },
  {
   "cell_type": "code",
   "execution_count": 98,
   "id": "1bd0fb4a",
   "metadata": {},
   "outputs": [],
   "source": [
    " for i in venue_price:\n",
    "        try:\n",
    "            all_price.append(i.find('span').text.strip())\n",
    "        \n",
    "        except:\n",
    "            all_price.append(np.nan)\n",
    "        \n",
    "\n",
    "for item in all_price:\n",
    "    veg_plate_price.append(item)\n",
    "    if \"Rental\" in item:\n",
    "        veg_plate_price.append([np.nan])\n",
    "    elif \"On\" in item:\n",
    "        veg_plate_price.append([np.nan])   "
   ]
  },
  {
   "cell_type": "code",
   "execution_count": 102,
   "id": "53f3b110",
   "metadata": {},
   "outputs": [
    {
     "data": {
      "text/plain": [
       "['3,000',\n",
       " '3,400',\n",
       " 'Rental Only',\n",
       " '3,000',\n",
       " '3,400',\n",
       " 'Rental Only',\n",
       " [nan],\n",
       " 'Rental Only',\n",
       " [nan],\n",
       " '2,000',\n",
       " '2,300',\n",
       " '2,500',\n",
       " '3,500',\n",
       " '3,700',\n",
       " '2,700',\n",
       " '2,700',\n",
       " 'On Request',\n",
       " [nan],\n",
       " '2,600',\n",
       " '2,800',\n",
       " '1,000',\n",
       " '1,200',\n",
       " '1,200',\n",
       " '1,200',\n",
       " '1,400',\n",
       " '1,600',\n",
       " '3,400',\n",
       " '3,800',\n",
       " '2,000',\n",
       " '2,200',\n",
       " '2,900',\n",
       " '3,200',\n",
       " 'Rental Only',\n",
       " [nan],\n",
       " '3,500',\n",
       " '3,600',\n",
       " '2,200',\n",
       " '2,400',\n",
       " 'Rental Only',\n",
       " [nan],\n",
       " '1,000',\n",
       " '1,200',\n",
       " '3,000',\n",
       " '3,400',\n",
       " 'Rental Only',\n",
       " [nan],\n",
       " 'Rental Only',\n",
       " [nan],\n",
       " '2,000',\n",
       " '2,300',\n",
       " '2,500',\n",
       " '3,500',\n",
       " '3,700',\n",
       " '2,700',\n",
       " '2,700',\n",
       " 'On Request',\n",
       " [nan],\n",
       " '2,600',\n",
       " '2,800',\n",
       " '1,000',\n",
       " '1,200',\n",
       " '1,200',\n",
       " '1,200',\n",
       " '1,400',\n",
       " '1,600',\n",
       " '3,400',\n",
       " '3,800',\n",
       " '2,000',\n",
       " '2,200',\n",
       " '2,900',\n",
       " '3,200',\n",
       " 'Rental Only',\n",
       " [nan],\n",
       " '3,500',\n",
       " '3,600',\n",
       " '2,200',\n",
       " '2,400',\n",
       " 'Rental Only',\n",
       " [nan],\n",
       " '1,000',\n",
       " '1,200']"
      ]
     },
     "execution_count": 102,
     "metadata": {},
     "output_type": "execute_result"
    }
   ],
   "source": [
    "veg_plate_price"
   ]
  }
 ],
 "metadata": {
  "kernelspec": {
   "display_name": "Python 3 (ipykernel)",
   "language": "python",
   "name": "python3"
  },
  "language_info": {
   "codemirror_mode": {
    "name": "ipython",
    "version": 3
   },
   "file_extension": ".py",
   "mimetype": "text/x-python",
   "name": "python",
   "nbconvert_exporter": "python",
   "pygments_lexer": "ipython3",
   "version": "3.9.13"
  },
  "vp": {
   "vp_config_version": "1.0.0",
   "vp_menu_width": 273,
   "vp_note_display": false,
   "vp_note_width": 0,
   "vp_position": {
    "width": 278
   },
   "vp_section_display": false,
   "vp_signature": "VisualPython"
  }
 },
 "nbformat": 4,
 "nbformat_minor": 5
}
