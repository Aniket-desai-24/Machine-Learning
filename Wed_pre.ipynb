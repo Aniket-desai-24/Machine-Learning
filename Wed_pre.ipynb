{
  "cells": [
    {
      "cell_type": "code",
      "source": [
        "from google.colab import drive\n",
        "drive.mount('/content/drive')"
      ],
      "metadata": {
        "colab": {
          "base_uri": "https://localhost:8080/"
        },
        "id": "oO9Ts4AN2un7",
        "outputId": "0d2722ee-d5b1-41a3-fa7c-f76bd7760a34"
      },
      "id": "oO9Ts4AN2un7",
      "execution_count": 1,
      "outputs": [
        {
          "output_type": "stream",
          "name": "stdout",
          "text": [
            "Mounted at /content/drive\n"
          ]
        }
      ]
    },
    {
      "cell_type": "code",
      "execution_count": 2,
      "id": "24ffa344",
      "metadata": {
        "id": "24ffa344"
      },
      "outputs": [],
      "source": [
        "import pandas as pd\n",
        "import numpy as np\n",
        "import warnings\n",
        "warnings.filterwarnings(\"ignore\")"
      ]
    },
    {
      "cell_type": "code",
      "execution_count": 3,
      "id": "0f12e86d",
      "metadata": {
        "colab": {
          "base_uri": "https://localhost:8080/",
          "height": 624
        },
        "id": "0f12e86d",
        "outputId": "56810be2-1354-4875-941f-d599dc323a20"
      },
      "outputs": [
        {
          "output_type": "execute_result",
          "data": {
            "text/plain": [
              "                                              Name  \\\n",
              "0                                The Bristol Hotel   \n",
              "1                                 Le Roma Gardenia   \n",
              "2                                     Trident Lawn   \n",
              "3                                 Seven Seas Hotel   \n",
              "4     Welcomhotel by ITC Hotels, GST Road, Chennai   \n",
              "...                                            ...   \n",
              "9995              Hyatt Regency Dharamshala Resort   \n",
              "9996                             The Royal Imperio   \n",
              "9997                            Chomu Palace Hotel   \n",
              "9998                     Westin Sohna Resort & Spa   \n",
              "9999                                Rajhans Greens   \n",
              "\n",
              "                        Location                            Venue_type  \\\n",
              "0           DLF Phase 1, Gurgaon  4 Star & Above Hotels, Banquet Halls   \n",
              "1     North Bangalore, Bangalore     Banquet Halls, Lawns / Farmhouses   \n",
              "2      Vrindavan Colony, Lucknow     Banquet Halls, Lawns / Farmhouses   \n",
              "3              Rohini, Delhi NCR  4 Star & Above Hotels, Banquet Halls   \n",
              "4              Tambaram, Chennai  4 Star & Above Hotels, Banquet Halls   \n",
              "...                          ...                                   ...   \n",
              "9995                 Dharamshala  4 Star & Above Hotels, Banquet Halls   \n",
              "9996        Sector 39, Faridabad  4 Star & Above Hotels, Banquet Halls   \n",
              "9997               Chomu, Jaipur  4 Star & Above Hotels, Banquet Halls   \n",
              "9998          Gurgaon, Delhi NCR                       Hotels, Resorts   \n",
              "9999                   Bangalore     Banquet Halls, Lawns / Farmhouses   \n",
              "\n",
              "     veg_plate_price non_veg_plate_price      Capacity      Rooms  Ratings  \n",
              "0              2,000               2,200   50-1200 pax   83 Rooms      4.4  \n",
              "1              1,000               1,200   400-850 pax   18 Rooms      4.6  \n",
              "2              1,000               1,200  900-1500 pax    7 Rooms      4.9  \n",
              "3              2,600               2,800   80-1275 pax  107 Rooms      4.2  \n",
              "4              1,500               1,800   100-600 pax  171 Rooms      5.0  \n",
              "...              ...                 ...           ...        ...      ...  \n",
              "9995           2,000               2,600   300-400 pax   81 Rooms      5.0  \n",
              "9996           1,700               1,800   120-500 pax   31 Rooms      4.4  \n",
              "9997           2,000               2,500    40-500 pax  100 Rooms      4.9  \n",
              "9998           4,500               4,500   150-350 pax   97 Rooms      4.7  \n",
              "9999     Rental Only               [nan]   70-1500 pax   40 Rooms      5.0  \n",
              "\n",
              "[10000 rows x 8 columns]"
            ],
            "text/html": [
              "\n",
              "  <div id=\"df-09d3b714-2bf9-4387-8fca-c0f55ced4f20\">\n",
              "    <div class=\"colab-df-container\">\n",
              "      <div>\n",
              "<style scoped>\n",
              "    .dataframe tbody tr th:only-of-type {\n",
              "        vertical-align: middle;\n",
              "    }\n",
              "\n",
              "    .dataframe tbody tr th {\n",
              "        vertical-align: top;\n",
              "    }\n",
              "\n",
              "    .dataframe thead th {\n",
              "        text-align: right;\n",
              "    }\n",
              "</style>\n",
              "<table border=\"1\" class=\"dataframe\">\n",
              "  <thead>\n",
              "    <tr style=\"text-align: right;\">\n",
              "      <th></th>\n",
              "      <th>Name</th>\n",
              "      <th>Location</th>\n",
              "      <th>Venue_type</th>\n",
              "      <th>veg_plate_price</th>\n",
              "      <th>non_veg_plate_price</th>\n",
              "      <th>Capacity</th>\n",
              "      <th>Rooms</th>\n",
              "      <th>Ratings</th>\n",
              "    </tr>\n",
              "  </thead>\n",
              "  <tbody>\n",
              "    <tr>\n",
              "      <th>0</th>\n",
              "      <td>The Bristol Hotel</td>\n",
              "      <td>DLF Phase 1, Gurgaon</td>\n",
              "      <td>4 Star &amp; Above Hotels, Banquet Halls</td>\n",
              "      <td>2,000</td>\n",
              "      <td>2,200</td>\n",
              "      <td>50-1200 pax</td>\n",
              "      <td>83 Rooms</td>\n",
              "      <td>4.4</td>\n",
              "    </tr>\n",
              "    <tr>\n",
              "      <th>1</th>\n",
              "      <td>Le Roma Gardenia</td>\n",
              "      <td>North Bangalore, Bangalore</td>\n",
              "      <td>Banquet Halls, Lawns / Farmhouses</td>\n",
              "      <td>1,000</td>\n",
              "      <td>1,200</td>\n",
              "      <td>400-850 pax</td>\n",
              "      <td>18 Rooms</td>\n",
              "      <td>4.6</td>\n",
              "    </tr>\n",
              "    <tr>\n",
              "      <th>2</th>\n",
              "      <td>Trident Lawn</td>\n",
              "      <td>Vrindavan Colony, Lucknow</td>\n",
              "      <td>Banquet Halls, Lawns / Farmhouses</td>\n",
              "      <td>1,000</td>\n",
              "      <td>1,200</td>\n",
              "      <td>900-1500 pax</td>\n",
              "      <td>7 Rooms</td>\n",
              "      <td>4.9</td>\n",
              "    </tr>\n",
              "    <tr>\n",
              "      <th>3</th>\n",
              "      <td>Seven Seas Hotel</td>\n",
              "      <td>Rohini, Delhi NCR</td>\n",
              "      <td>4 Star &amp; Above Hotels, Banquet Halls</td>\n",
              "      <td>2,600</td>\n",
              "      <td>2,800</td>\n",
              "      <td>80-1275 pax</td>\n",
              "      <td>107 Rooms</td>\n",
              "      <td>4.2</td>\n",
              "    </tr>\n",
              "    <tr>\n",
              "      <th>4</th>\n",
              "      <td>Welcomhotel by ITC Hotels, GST Road, Chennai</td>\n",
              "      <td>Tambaram, Chennai</td>\n",
              "      <td>4 Star &amp; Above Hotels, Banquet Halls</td>\n",
              "      <td>1,500</td>\n",
              "      <td>1,800</td>\n",
              "      <td>100-600 pax</td>\n",
              "      <td>171 Rooms</td>\n",
              "      <td>5.0</td>\n",
              "    </tr>\n",
              "    <tr>\n",
              "      <th>...</th>\n",
              "      <td>...</td>\n",
              "      <td>...</td>\n",
              "      <td>...</td>\n",
              "      <td>...</td>\n",
              "      <td>...</td>\n",
              "      <td>...</td>\n",
              "      <td>...</td>\n",
              "      <td>...</td>\n",
              "    </tr>\n",
              "    <tr>\n",
              "      <th>9995</th>\n",
              "      <td>Hyatt Regency Dharamshala Resort</td>\n",
              "      <td>Dharamshala</td>\n",
              "      <td>4 Star &amp; Above Hotels, Banquet Halls</td>\n",
              "      <td>2,000</td>\n",
              "      <td>2,600</td>\n",
              "      <td>300-400 pax</td>\n",
              "      <td>81 Rooms</td>\n",
              "      <td>5.0</td>\n",
              "    </tr>\n",
              "    <tr>\n",
              "      <th>9996</th>\n",
              "      <td>The Royal Imperio</td>\n",
              "      <td>Sector 39, Faridabad</td>\n",
              "      <td>4 Star &amp; Above Hotels, Banquet Halls</td>\n",
              "      <td>1,700</td>\n",
              "      <td>1,800</td>\n",
              "      <td>120-500 pax</td>\n",
              "      <td>31 Rooms</td>\n",
              "      <td>4.4</td>\n",
              "    </tr>\n",
              "    <tr>\n",
              "      <th>9997</th>\n",
              "      <td>Chomu Palace Hotel</td>\n",
              "      <td>Chomu, Jaipur</td>\n",
              "      <td>4 Star &amp; Above Hotels, Banquet Halls</td>\n",
              "      <td>2,000</td>\n",
              "      <td>2,500</td>\n",
              "      <td>40-500 pax</td>\n",
              "      <td>100 Rooms</td>\n",
              "      <td>4.9</td>\n",
              "    </tr>\n",
              "    <tr>\n",
              "      <th>9998</th>\n",
              "      <td>Westin Sohna Resort &amp; Spa</td>\n",
              "      <td>Gurgaon, Delhi NCR</td>\n",
              "      <td>Hotels, Resorts</td>\n",
              "      <td>4,500</td>\n",
              "      <td>4,500</td>\n",
              "      <td>150-350 pax</td>\n",
              "      <td>97 Rooms</td>\n",
              "      <td>4.7</td>\n",
              "    </tr>\n",
              "    <tr>\n",
              "      <th>9999</th>\n",
              "      <td>Rajhans Greens</td>\n",
              "      <td>Bangalore</td>\n",
              "      <td>Banquet Halls, Lawns / Farmhouses</td>\n",
              "      <td>Rental Only</td>\n",
              "      <td>[nan]</td>\n",
              "      <td>70-1500 pax</td>\n",
              "      <td>40 Rooms</td>\n",
              "      <td>5.0</td>\n",
              "    </tr>\n",
              "  </tbody>\n",
              "</table>\n",
              "<p>10000 rows × 8 columns</p>\n",
              "</div>\n",
              "      <button class=\"colab-df-convert\" onclick=\"convertToInteractive('df-09d3b714-2bf9-4387-8fca-c0f55ced4f20')\"\n",
              "              title=\"Convert this dataframe to an interactive table.\"\n",
              "              style=\"display:none;\">\n",
              "        \n",
              "  <svg xmlns=\"http://www.w3.org/2000/svg\" height=\"24px\"viewBox=\"0 0 24 24\"\n",
              "       width=\"24px\">\n",
              "    <path d=\"M0 0h24v24H0V0z\" fill=\"none\"/>\n",
              "    <path d=\"M18.56 5.44l.94 2.06.94-2.06 2.06-.94-2.06-.94-.94-2.06-.94 2.06-2.06.94zm-11 1L8.5 8.5l.94-2.06 2.06-.94-2.06-.94L8.5 2.5l-.94 2.06-2.06.94zm10 10l.94 2.06.94-2.06 2.06-.94-2.06-.94-.94-2.06-.94 2.06-2.06.94z\"/><path d=\"M17.41 7.96l-1.37-1.37c-.4-.4-.92-.59-1.43-.59-.52 0-1.04.2-1.43.59L10.3 9.45l-7.72 7.72c-.78.78-.78 2.05 0 2.83L4 21.41c.39.39.9.59 1.41.59.51 0 1.02-.2 1.41-.59l7.78-7.78 2.81-2.81c.8-.78.8-2.07 0-2.86zM5.41 20L4 18.59l7.72-7.72 1.47 1.35L5.41 20z\"/>\n",
              "  </svg>\n",
              "      </button>\n",
              "      \n",
              "  <style>\n",
              "    .colab-df-container {\n",
              "      display:flex;\n",
              "      flex-wrap:wrap;\n",
              "      gap: 12px;\n",
              "    }\n",
              "\n",
              "    .colab-df-convert {\n",
              "      background-color: #E8F0FE;\n",
              "      border: none;\n",
              "      border-radius: 50%;\n",
              "      cursor: pointer;\n",
              "      display: none;\n",
              "      fill: #1967D2;\n",
              "      height: 32px;\n",
              "      padding: 0 0 0 0;\n",
              "      width: 32px;\n",
              "    }\n",
              "\n",
              "    .colab-df-convert:hover {\n",
              "      background-color: #E2EBFA;\n",
              "      box-shadow: 0px 1px 2px rgba(60, 64, 67, 0.3), 0px 1px 3px 1px rgba(60, 64, 67, 0.15);\n",
              "      fill: #174EA6;\n",
              "    }\n",
              "\n",
              "    [theme=dark] .colab-df-convert {\n",
              "      background-color: #3B4455;\n",
              "      fill: #D2E3FC;\n",
              "    }\n",
              "\n",
              "    [theme=dark] .colab-df-convert:hover {\n",
              "      background-color: #434B5C;\n",
              "      box-shadow: 0px 1px 3px 1px rgba(0, 0, 0, 0.15);\n",
              "      filter: drop-shadow(0px 1px 2px rgba(0, 0, 0, 0.3));\n",
              "      fill: #FFFFFF;\n",
              "    }\n",
              "  </style>\n",
              "\n",
              "      <script>\n",
              "        const buttonEl =\n",
              "          document.querySelector('#df-09d3b714-2bf9-4387-8fca-c0f55ced4f20 button.colab-df-convert');\n",
              "        buttonEl.style.display =\n",
              "          google.colab.kernel.accessAllowed ? 'block' : 'none';\n",
              "\n",
              "        async function convertToInteractive(key) {\n",
              "          const element = document.querySelector('#df-09d3b714-2bf9-4387-8fca-c0f55ced4f20');\n",
              "          const dataTable =\n",
              "            await google.colab.kernel.invokeFunction('convertToInteractive',\n",
              "                                                     [key], {});\n",
              "          if (!dataTable) return;\n",
              "\n",
              "          const docLinkHtml = 'Like what you see? Visit the ' +\n",
              "            '<a target=\"_blank\" href=https://colab.research.google.com/notebooks/data_table.ipynb>data table notebook</a>'\n",
              "            + ' to learn more about interactive tables.';\n",
              "          element.innerHTML = '';\n",
              "          dataTable['output_type'] = 'display_data';\n",
              "          await google.colab.output.renderOutput(dataTable, element);\n",
              "          const docLink = document.createElement('div');\n",
              "          docLink.innerHTML = docLinkHtml;\n",
              "          element.appendChild(docLink);\n",
              "        }\n",
              "      </script>\n",
              "    </div>\n",
              "  </div>\n",
              "  "
            ]
          },
          "metadata": {},
          "execution_count": 3
        }
      ],
      "source": [
        "df=pd.read_csv(\"/content/drive/MyDrive/Wed_Venue.csv\")\n",
        "df"
      ]
    },
    {
      "cell_type": "code",
      "source": [],
      "metadata": {
        "id": "10oT-PMS2n8O"
      },
      "id": "10oT-PMS2n8O",
      "execution_count": 3,
      "outputs": []
    },
    {
      "cell_type": "code",
      "source": [],
      "metadata": {
        "id": "lY96a6ZmlJnH"
      },
      "id": "lY96a6ZmlJnH",
      "execution_count": 3,
      "outputs": []
    },
    {
      "cell_type": "code",
      "source": [],
      "metadata": {
        "id": "3nGdCxCAlVjg"
      },
      "id": "3nGdCxCAlVjg",
      "execution_count": 3,
      "outputs": []
    },
    {
      "cell_type": "code",
      "execution_count": 4,
      "id": "c1d5fa5f",
      "metadata": {
        "id": "c1d5fa5f"
      },
      "outputs": [],
      "source": [
        "df[\"Minimum\"]=df['Capacity'].str.split('-').str[0]"
      ]
    },
    {
      "cell_type": "code",
      "execution_count": 5,
      "id": "6b343317",
      "metadata": {
        "id": "6b343317"
      },
      "outputs": [],
      "source": [
        "df['Maximum']=df['Capacity'].str.replace('-',' ').str.split().str[1]"
      ]
    },
    {
      "cell_type": "code",
      "execution_count": 6,
      "id": "5e62e562",
      "metadata": {
        "id": "5e62e562"
      },
      "outputs": [],
      "source": [
        "df.drop('Capacity',axis=1,inplace=True)"
      ]
    },
    {
      "cell_type": "code",
      "execution_count": 7,
      "id": "6d3a3c45",
      "metadata": {
        "id": "6d3a3c45"
      },
      "outputs": [],
      "source": [
        "df['Rooms']=df['Rooms'].str.split(' ').str[0]"
      ]
    },
    {
      "cell_type": "code",
      "source": [],
      "metadata": {
        "id": "rfPbxKoAdocU"
      },
      "id": "rfPbxKoAdocU",
      "execution_count": 7,
      "outputs": []
    },
    {
      "cell_type": "code",
      "execution_count": 8,
      "id": "7460eec1",
      "metadata": {
        "id": "7460eec1"
      },
      "outputs": [],
      "source": [
        "df[\"Area\"]=df['Location'].str.split(',').str[0]\n",
        "df[\"City\"]=df['Location'].str.split(',').str[1]"
      ]
    },
    {
      "cell_type": "code",
      "execution_count": 9,
      "id": "a6131db8",
      "metadata": {
        "id": "a6131db8"
      },
      "outputs": [],
      "source": [
        "df.drop(\"Location\",axis=1,inplace=True)"
      ]
    },
    {
      "cell_type": "code",
      "execution_count": 10,
      "id": "e161376e",
      "metadata": {
        "id": "e161376e"
      },
      "outputs": [],
      "source": [
        "df[\"Name\"]=df['Name'].str.split(',').str[0]"
      ]
    },
    {
      "cell_type": "code",
      "execution_count": 11,
      "id": "48d97c46",
      "metadata": {
        "id": "48d97c46"
      },
      "outputs": [],
      "source": [
        "df[\"Venue_type\"]=df[\"Venue_type\"].str.split('/').str[-1].str.split(',').str[-1]"
      ]
    },
    {
      "cell_type": "code",
      "execution_count": 12,
      "id": "cf532bf5",
      "metadata": {
        "id": "cf532bf5"
      },
      "outputs": [],
      "source": [
        "df['Name']=df['Name'].str.split(',').str[0]"
      ]
    },
    {
      "cell_type": "code",
      "execution_count": 13,
      "id": "26107dc0",
      "metadata": {
        "id": "26107dc0"
      },
      "outputs": [],
      "source": [
        "df1=df.copy()"
      ]
    },
    {
      "cell_type": "code",
      "execution_count": 14,
      "id": "67d1da10",
      "metadata": {
        "colab": {
          "base_uri": "https://localhost:8080/"
        },
        "id": "67d1da10",
        "outputId": "3fddb1b7-3ac5-4927-aac1-32034322de3c"
      },
      "outputs": [
        {
          "output_type": "stream",
          "name": "stdout",
          "text": [
            "<class 'pandas.core.frame.DataFrame'>\n",
            "RangeIndex: 10000 entries, 0 to 9999\n",
            "Data columns (total 10 columns):\n",
            " #   Column               Non-Null Count  Dtype  \n",
            "---  ------               --------------  -----  \n",
            " 0   Name                 10000 non-null  object \n",
            " 1   Venue_type           10000 non-null  object \n",
            " 2   veg_plate_price      10000 non-null  object \n",
            " 3   non_veg_plate_price  10000 non-null  object \n",
            " 4   Rooms                10000 non-null  object \n",
            " 5   Ratings              10000 non-null  float64\n",
            " 6   Minimum              10000 non-null  object \n",
            " 7   Maximum              10000 non-null  object \n",
            " 8   Area                 10000 non-null  object \n",
            " 9   City                 8498 non-null   object \n",
            "dtypes: float64(1), object(9)\n",
            "memory usage: 781.4+ KB\n"
          ]
        }
      ],
      "source": [
        "df1.info()"
      ]
    },
    {
      "cell_type": "code",
      "source": [
        "df1['Rooms']=df1['Rooms'].replace(['Indoor','WMG'],np.nan)\n",
        "df1['Rooms']=df1['Rooms'].astype(float)\n",
        "df1['Rooms']=df1['Rooms'].fillna(df1['Rooms'].mean()).astype(int)"
      ],
      "metadata": {
        "id": "FW6q5Iecd783"
      },
      "id": "FW6q5Iecd783",
      "execution_count": 15,
      "outputs": []
    },
    {
      "cell_type": "code",
      "source": [],
      "metadata": {
        "id": "fJPNOtJosXo8"
      },
      "id": "fJPNOtJosXo8",
      "execution_count": 15,
      "outputs": []
    },
    {
      "cell_type": "code",
      "source": [
        "df1[\"Venue_type\"]=df1[\"Venue_type\"].str.strip()\n",
        "df1[\"Venue_type\"]=df1[\"Venue_type\"].str.replace(\" Banquet Halls\",\"Banquet Halls\")"
      ],
      "metadata": {
        "id": "K2SdIIXkpwBA"
      },
      "id": "K2SdIIXkpwBA",
      "execution_count": 16,
      "outputs": []
    },
    {
      "cell_type": "code",
      "source": [
        "B=np.random.randint(20000,high=40000)\n",
        "F=np.random.randint(41000,high=60000)\n",
        "R=np.random.randint(61000,high=80000)\n",
        "#Venue_Cost={'Banquet Halls':B, 'Dj':40000, 'Farmhouses':F, 'Resorts':R}\n",
        "#df1['Venue_Cost']=df1['Venue_type'].map(Venue_Cost)"
      ],
      "metadata": {
        "id": "a3hwvFlOpasp"
      },
      "id": "a3hwvFlOpasp",
      "execution_count": 17,
      "outputs": []
    },
    {
      "cell_type": "code",
      "source": [],
      "metadata": {
        "id": "wNg5TkgV7Skg"
      },
      "id": "wNg5TkgV7Skg",
      "execution_count": 17,
      "outputs": []
    },
    {
      "cell_type": "code",
      "source": [
        "df1[\"Minimum\"]=df1[\"Minimum\"].replace('WMG Users Choice Awards Winner',np.nan)\n",
        "df1[\"Minimum\"]=df1[\"Minimum\"].astype(float)"
      ],
      "metadata": {
        "id": "5EkPcWhw-Gsy"
      },
      "id": "5EkPcWhw-Gsy",
      "execution_count": 18,
      "outputs": []
    },
    {
      "cell_type": "code",
      "execution_count": 18,
      "id": "4b19bfdd",
      "metadata": {
        "id": "4b19bfdd"
      },
      "outputs": [],
      "source": []
    },
    {
      "cell_type": "code",
      "execution_count": 19,
      "id": "8a452a1d",
      "metadata": {
        "id": "8a452a1d"
      },
      "outputs": [],
      "source": [
        "df1['Maximum']=df1[\"Maximum\"].replace('Users',np.nan).astype(float)\n",
        "df1[\"Minimum\"]=df1[\"Minimum\"].fillna(df1[\"Minimum\"].mean()).astype(int)\n",
        "df1[\"Maximum\"]=df1[\"Maximum\"].fillna(df1[\"Maximum\"].mean()).astype(int)"
      ]
    },
    {
      "cell_type": "code",
      "execution_count": 19,
      "id": "d121083c",
      "metadata": {
        "id": "d121083c"
      },
      "outputs": [],
      "source": []
    },
    {
      "cell_type": "code",
      "source": [
        "df1['People_Attended'] = np.random.randint(low=df1['Minimum'], high=df1['Maximum'] - ((df1['Maximum'] - df1['Minimum']) / 2), size=len(df1)) + (df1['Maximum'] - df1['Minimum']) / 2\n",
        "df1[\"People_Attended\"]=df1[\"People_Attended\"].fillna(df1[\"People_Attended\"].mean()).astype(int)"
      ],
      "metadata": {
        "id": "dz9yiPLa589p"
      },
      "id": "dz9yiPLa589p",
      "execution_count": 20,
      "outputs": []
    },
    {
      "cell_type": "code",
      "source": [],
      "metadata": {
        "id": "Ze19BtiT5_t3"
      },
      "id": "Ze19BtiT5_t3",
      "execution_count": 20,
      "outputs": []
    },
    {
      "cell_type": "code",
      "execution_count": 21,
      "id": "2008e75b",
      "metadata": {
        "id": "2008e75b"
      },
      "outputs": [],
      "source": [
        "decoration_types = ['Royal','Modern', 'Rustic', 'Vintage','Floral']\n",
        "df1['Decoration_type'] = np.random.choice(decoration_types, size=len(df1))"
      ]
    },
    {
      "cell_type": "code",
      "execution_count": 21,
      "id": "c416ff4f",
      "metadata": {
        "id": "c416ff4f"
      },
      "outputs": [],
      "source": []
    },
    {
      "cell_type": "code",
      "execution_count": 22,
      "id": "1bd76b27",
      "metadata": {
        "id": "1bd76b27"
      },
      "outputs": [],
      "source": [
        "entertainment_types=[\"Instrumental\",\"Dj\",\"Singing\",\"Dancing\"]\n",
        "df1['Entertainment_Types'] = np.random.choice(entertainment_types, size=len(df1))"
      ]
    },
    {
      "cell_type": "code",
      "source": [],
      "metadata": {
        "id": "0lvxffWK9IFj"
      },
      "id": "0lvxffWK9IFj",
      "execution_count": 22,
      "outputs": []
    },
    {
      "cell_type": "code",
      "execution_count": 23,
      "id": "66e28984",
      "metadata": {
        "id": "66e28984"
      },
      "outputs": [],
      "source": [
        "Food_Selected=[\"Veg\",\"Non-Veg\"]\n",
        "df1['Food_Selected'] = np.random.choice(Food_Selected, size=len(df1))"
      ]
    },
    {
      "cell_type": "code",
      "execution_count": 23,
      "id": "60021f44",
      "metadata": {
        "id": "60021f44"
      },
      "outputs": [],
      "source": []
    },
    {
      "cell_type": "code",
      "execution_count": 24,
      "id": "0ac96250",
      "metadata": {
        "id": "0ac96250"
      },
      "outputs": [],
      "source": [
        "df1['City'] = df1.apply(lambda row: row['Area'] if pd.isnull(row['City']) else row['City'], axis=1)\n",
        "df1[\"City\"]=df1[\"City\"].str.strip()"
      ]
    },
    {
      "cell_type": "code",
      "execution_count": 24,
      "id": "e909ba81",
      "metadata": {
        "id": "e909ba81"
      },
      "outputs": [],
      "source": []
    },
    {
      "cell_type": "code",
      "execution_count": 25,
      "id": "3dc6b2db",
      "metadata": {
        "id": "3dc6b2db"
      },
      "outputs": [],
      "source": [
        "df1[\"veg_plate_price\"]=df1[\"veg_plate_price\"].replace(['Rental Only','On Request'],np.nan)\n",
        "df1[\"veg_plate_price\"]=df1[\"veg_plate_price\"].str.replace(',','').astype(float)\n",
        "df1[\"veg_plate_price\"]=df1[\"veg_plate_price\"].fillna(df1[\"veg_plate_price\"].mean()).astype(int)"
      ]
    },
    {
      "cell_type": "code",
      "execution_count": 25,
      "id": "e364d826",
      "metadata": {
        "id": "e364d826"
      },
      "outputs": [],
      "source": []
    },
    {
      "cell_type": "code",
      "execution_count": 26,
      "id": "0df2da22",
      "metadata": {
        "id": "0df2da22"
      },
      "outputs": [],
      "source": [
        "df1[\"non_veg_plate_price\"]=df1[\"non_veg_plate_price\"].replace('[nan]',np.nan)\n",
        "df1[\"non_veg_plate_price\"]=df1[\"non_veg_plate_price\"].str.replace(',','').astype(float)\n",
        "df1[\"non_veg_plate_price\"]=df1[\"non_veg_plate_price\"].fillna(df1[\"non_veg_plate_price\"].mean()).astype(int)"
      ]
    },
    {
      "cell_type": "code",
      "execution_count": 26,
      "id": "cfe06602",
      "metadata": {
        "id": "cfe06602"
      },
      "outputs": [],
      "source": []
    },
    {
      "cell_type": "code",
      "execution_count": 26,
      "id": "a22b428f",
      "metadata": {
        "id": "a22b428f"
      },
      "outputs": [],
      "source": []
    },
    {
      "cell_type": "code",
      "source": [],
      "metadata": {
        "id": "5DQrn8ukwHi9"
      },
      "id": "5DQrn8ukwHi9",
      "execution_count": 26,
      "outputs": []
    },
    {
      "cell_type": "code",
      "source": [],
      "metadata": {
        "id": "HfExkYNWiDGS"
      },
      "id": "HfExkYNWiDGS",
      "execution_count": 26,
      "outputs": []
    },
    {
      "cell_type": "code",
      "source": [],
      "metadata": {
        "id": "cZ0F6Nztwxcd"
      },
      "id": "cZ0F6Nztwxcd",
      "execution_count": 26,
      "outputs": []
    },
    {
      "cell_type": "code",
      "execution_count": 27,
      "id": "69655d5d",
      "metadata": {
        "id": "69655d5d"
      },
      "outputs": [],
      "source": [
        "#df1.duplicated().sum()"
      ]
    },
    {
      "cell_type": "code",
      "source": [
        "# create a function to calculate the total cost based on the number of attendees and food selection\n",
        "def calculate_total_cost(row):\n",
        "    attendees = row['People_Attended']\n",
        "    food = row['Food_Selected']\n",
        "    if food == 'Veg':\n",
        "        return attendees * row['veg_plate_price']\n",
        "    else:\n",
        "        return attendees * row['non_veg_plate_price']\n",
        "\n",
        "# apply the function to create a new column with total cost\n",
        "df1['Total_Cost'] = df1.apply(calculate_total_cost, axis=1)\n",
        "\n",
        "# display the DataFrame with the new column"
      ],
      "metadata": {
        "id": "Y8k2SIR1NZLI"
      },
      "id": "Y8k2SIR1NZLI",
      "execution_count": 28,
      "outputs": []
    },
    {
      "cell_type": "code",
      "execution_count": 28,
      "id": "09c2f8a4",
      "metadata": {
        "id": "09c2f8a4"
      },
      "outputs": [],
      "source": []
    },
    {
      "cell_type": "code",
      "source": [],
      "metadata": {
        "id": "EQj-yAPk7tOg"
      },
      "id": "EQj-yAPk7tOg",
      "execution_count": 28,
      "outputs": []
    },
    {
      "cell_type": "code",
      "source": [
        "df1[\"Total_Cost\"]=df1[\"Total_Cost\"]+df1['Decoration_type'].apply(lambda x: 100000 if x=='Royal' else 80000 if x==\"Vintage\" else 60000 if x==\"Modern\" else 40000 if x==\"Rustic\" else 20000)\n",
        "df1[\"Total_Cost\"]=df1[\"Total_Cost\"]+df1['Entertainment_Types'].apply(lambda x: 40000 if x=='Dj' else 35000 if x==\"Singing\" else 30000 if x==\"Dancing\" else 25000)\n",
        "df1[\"Total_Cost\"]=df1[\"Total_Cost\"]+df1['Venue_type'].apply(lambda x: B if x==\"Banquet Halls\" else F if x==\"Farmhouses\" else R)"
      ],
      "metadata": {
        "id": "yE0E1ApXAQWy"
      },
      "id": "yE0E1ApXAQWy",
      "execution_count": 29,
      "outputs": []
    },
    {
      "cell_type": "code",
      "source": [],
      "metadata": {
        "id": "A8TOt9oYCepM"
      },
      "id": "A8TOt9oYCepM",
      "execution_count": 29,
      "outputs": []
    },
    {
      "cell_type": "code",
      "source": [
        "df1"
      ],
      "metadata": {
        "colab": {
          "base_uri": "https://localhost:8080/",
          "height": 731
        },
        "id": "cG72UUW6dX3H",
        "outputId": "86feceed-9525-45f2-af0f-3dd2320540ed"
      },
      "id": "cG72UUW6dX3H",
      "execution_count": 30,
      "outputs": [
        {
          "output_type": "execute_result",
          "data": {
            "text/plain": [
              "                                  Name     Venue_type  veg_plate_price  \\\n",
              "0                    The Bristol Hotel  Banquet Halls             2000   \n",
              "1                     Le Roma Gardenia     Farmhouses             1000   \n",
              "2                         Trident Lawn     Farmhouses             1000   \n",
              "3                     Seven Seas Hotel  Banquet Halls             2600   \n",
              "4            Welcomhotel by ITC Hotels  Banquet Halls             1500   \n",
              "...                                ...            ...              ...   \n",
              "9995  Hyatt Regency Dharamshala Resort  Banquet Halls             2000   \n",
              "9996                 The Royal Imperio  Banquet Halls             1700   \n",
              "9997                Chomu Palace Hotel  Banquet Halls             2000   \n",
              "9998         Westin Sohna Resort & Spa        Resorts             4500   \n",
              "9999                    Rajhans Greens     Farmhouses             1917   \n",
              "\n",
              "      non_veg_plate_price  Rooms  Ratings  Minimum  Maximum              Area  \\\n",
              "0                    2200     83      4.4       50     1200       DLF Phase 1   \n",
              "1                    1200     18      4.6      400      850   North Bangalore   \n",
              "2                    1200      7      4.9      900     1500  Vrindavan Colony   \n",
              "3                    2800    107      4.2       80     1275            Rohini   \n",
              "4                    1800    171      5.0      100      600          Tambaram   \n",
              "...                   ...    ...      ...      ...      ...               ...   \n",
              "9995                 2600     81      5.0      300      400       Dharamshala   \n",
              "9996                 1800     31      4.4      120      500         Sector 39   \n",
              "9997                 2500    100      4.9       40      500             Chomu   \n",
              "9998                 4500     97      4.7      150      350           Gurgaon   \n",
              "9999                 2226     40      5.0       70     1500         Bangalore   \n",
              "\n",
              "             City  People_Attended Decoration_type Entertainment_Types  \\\n",
              "0         Gurgaon              756           Royal             Singing   \n",
              "1       Bangalore              798           Royal                  Dj   \n",
              "2         Lucknow             1217          Modern             Dancing   \n",
              "3       Delhi NCR             1171         Vintage                  Dj   \n",
              "4         Chennai              384           Royal                  Dj   \n",
              "...           ...              ...             ...                 ...   \n",
              "9995  Dharamshala              355           Royal                  Dj   \n",
              "9996    Faridabad              444          Rustic             Dancing   \n",
              "9997       Jaipur              287           Royal             Dancing   \n",
              "9998    Delhi NCR              306          Rustic                  Dj   \n",
              "9999    Bangalore              820         Vintage                  Dj   \n",
              "\n",
              "     Food_Selected  Total_Cost  \n",
              "0              Veg     1668606  \n",
              "1          Non-Veg     1149846  \n",
              "2          Non-Veg     1602646  \n",
              "3              Veg     3186206  \n",
              "4          Non-Veg      852806  \n",
              "...            ...         ...  \n",
              "9995       Non-Veg     1084606  \n",
              "9996           Veg      846406  \n",
              "9997           Veg      725606  \n",
              "9998           Veg     1524732  \n",
              "9999       Non-Veg     1997566  \n",
              "\n",
              "[10000 rows x 15 columns]"
            ],
            "text/html": [
              "\n",
              "  <div id=\"df-787c61ae-11ac-4436-a171-9018c00554c9\">\n",
              "    <div class=\"colab-df-container\">\n",
              "      <div>\n",
              "<style scoped>\n",
              "    .dataframe tbody tr th:only-of-type {\n",
              "        vertical-align: middle;\n",
              "    }\n",
              "\n",
              "    .dataframe tbody tr th {\n",
              "        vertical-align: top;\n",
              "    }\n",
              "\n",
              "    .dataframe thead th {\n",
              "        text-align: right;\n",
              "    }\n",
              "</style>\n",
              "<table border=\"1\" class=\"dataframe\">\n",
              "  <thead>\n",
              "    <tr style=\"text-align: right;\">\n",
              "      <th></th>\n",
              "      <th>Name</th>\n",
              "      <th>Venue_type</th>\n",
              "      <th>veg_plate_price</th>\n",
              "      <th>non_veg_plate_price</th>\n",
              "      <th>Rooms</th>\n",
              "      <th>Ratings</th>\n",
              "      <th>Minimum</th>\n",
              "      <th>Maximum</th>\n",
              "      <th>Area</th>\n",
              "      <th>City</th>\n",
              "      <th>People_Attended</th>\n",
              "      <th>Decoration_type</th>\n",
              "      <th>Entertainment_Types</th>\n",
              "      <th>Food_Selected</th>\n",
              "      <th>Total_Cost</th>\n",
              "    </tr>\n",
              "  </thead>\n",
              "  <tbody>\n",
              "    <tr>\n",
              "      <th>0</th>\n",
              "      <td>The Bristol Hotel</td>\n",
              "      <td>Banquet Halls</td>\n",
              "      <td>2000</td>\n",
              "      <td>2200</td>\n",
              "      <td>83</td>\n",
              "      <td>4.4</td>\n",
              "      <td>50</td>\n",
              "      <td>1200</td>\n",
              "      <td>DLF Phase 1</td>\n",
              "      <td>Gurgaon</td>\n",
              "      <td>756</td>\n",
              "      <td>Royal</td>\n",
              "      <td>Singing</td>\n",
              "      <td>Veg</td>\n",
              "      <td>1668606</td>\n",
              "    </tr>\n",
              "    <tr>\n",
              "      <th>1</th>\n",
              "      <td>Le Roma Gardenia</td>\n",
              "      <td>Farmhouses</td>\n",
              "      <td>1000</td>\n",
              "      <td>1200</td>\n",
              "      <td>18</td>\n",
              "      <td>4.6</td>\n",
              "      <td>400</td>\n",
              "      <td>850</td>\n",
              "      <td>North Bangalore</td>\n",
              "      <td>Bangalore</td>\n",
              "      <td>798</td>\n",
              "      <td>Royal</td>\n",
              "      <td>Dj</td>\n",
              "      <td>Non-Veg</td>\n",
              "      <td>1149846</td>\n",
              "    </tr>\n",
              "    <tr>\n",
              "      <th>2</th>\n",
              "      <td>Trident Lawn</td>\n",
              "      <td>Farmhouses</td>\n",
              "      <td>1000</td>\n",
              "      <td>1200</td>\n",
              "      <td>7</td>\n",
              "      <td>4.9</td>\n",
              "      <td>900</td>\n",
              "      <td>1500</td>\n",
              "      <td>Vrindavan Colony</td>\n",
              "      <td>Lucknow</td>\n",
              "      <td>1217</td>\n",
              "      <td>Modern</td>\n",
              "      <td>Dancing</td>\n",
              "      <td>Non-Veg</td>\n",
              "      <td>1602646</td>\n",
              "    </tr>\n",
              "    <tr>\n",
              "      <th>3</th>\n",
              "      <td>Seven Seas Hotel</td>\n",
              "      <td>Banquet Halls</td>\n",
              "      <td>2600</td>\n",
              "      <td>2800</td>\n",
              "      <td>107</td>\n",
              "      <td>4.2</td>\n",
              "      <td>80</td>\n",
              "      <td>1275</td>\n",
              "      <td>Rohini</td>\n",
              "      <td>Delhi NCR</td>\n",
              "      <td>1171</td>\n",
              "      <td>Vintage</td>\n",
              "      <td>Dj</td>\n",
              "      <td>Veg</td>\n",
              "      <td>3186206</td>\n",
              "    </tr>\n",
              "    <tr>\n",
              "      <th>4</th>\n",
              "      <td>Welcomhotel by ITC Hotels</td>\n",
              "      <td>Banquet Halls</td>\n",
              "      <td>1500</td>\n",
              "      <td>1800</td>\n",
              "      <td>171</td>\n",
              "      <td>5.0</td>\n",
              "      <td>100</td>\n",
              "      <td>600</td>\n",
              "      <td>Tambaram</td>\n",
              "      <td>Chennai</td>\n",
              "      <td>384</td>\n",
              "      <td>Royal</td>\n",
              "      <td>Dj</td>\n",
              "      <td>Non-Veg</td>\n",
              "      <td>852806</td>\n",
              "    </tr>\n",
              "    <tr>\n",
              "      <th>...</th>\n",
              "      <td>...</td>\n",
              "      <td>...</td>\n",
              "      <td>...</td>\n",
              "      <td>...</td>\n",
              "      <td>...</td>\n",
              "      <td>...</td>\n",
              "      <td>...</td>\n",
              "      <td>...</td>\n",
              "      <td>...</td>\n",
              "      <td>...</td>\n",
              "      <td>...</td>\n",
              "      <td>...</td>\n",
              "      <td>...</td>\n",
              "      <td>...</td>\n",
              "      <td>...</td>\n",
              "    </tr>\n",
              "    <tr>\n",
              "      <th>9995</th>\n",
              "      <td>Hyatt Regency Dharamshala Resort</td>\n",
              "      <td>Banquet Halls</td>\n",
              "      <td>2000</td>\n",
              "      <td>2600</td>\n",
              "      <td>81</td>\n",
              "      <td>5.0</td>\n",
              "      <td>300</td>\n",
              "      <td>400</td>\n",
              "      <td>Dharamshala</td>\n",
              "      <td>Dharamshala</td>\n",
              "      <td>355</td>\n",
              "      <td>Royal</td>\n",
              "      <td>Dj</td>\n",
              "      <td>Non-Veg</td>\n",
              "      <td>1084606</td>\n",
              "    </tr>\n",
              "    <tr>\n",
              "      <th>9996</th>\n",
              "      <td>The Royal Imperio</td>\n",
              "      <td>Banquet Halls</td>\n",
              "      <td>1700</td>\n",
              "      <td>1800</td>\n",
              "      <td>31</td>\n",
              "      <td>4.4</td>\n",
              "      <td>120</td>\n",
              "      <td>500</td>\n",
              "      <td>Sector 39</td>\n",
              "      <td>Faridabad</td>\n",
              "      <td>444</td>\n",
              "      <td>Rustic</td>\n",
              "      <td>Dancing</td>\n",
              "      <td>Veg</td>\n",
              "      <td>846406</td>\n",
              "    </tr>\n",
              "    <tr>\n",
              "      <th>9997</th>\n",
              "      <td>Chomu Palace Hotel</td>\n",
              "      <td>Banquet Halls</td>\n",
              "      <td>2000</td>\n",
              "      <td>2500</td>\n",
              "      <td>100</td>\n",
              "      <td>4.9</td>\n",
              "      <td>40</td>\n",
              "      <td>500</td>\n",
              "      <td>Chomu</td>\n",
              "      <td>Jaipur</td>\n",
              "      <td>287</td>\n",
              "      <td>Royal</td>\n",
              "      <td>Dancing</td>\n",
              "      <td>Veg</td>\n",
              "      <td>725606</td>\n",
              "    </tr>\n",
              "    <tr>\n",
              "      <th>9998</th>\n",
              "      <td>Westin Sohna Resort &amp; Spa</td>\n",
              "      <td>Resorts</td>\n",
              "      <td>4500</td>\n",
              "      <td>4500</td>\n",
              "      <td>97</td>\n",
              "      <td>4.7</td>\n",
              "      <td>150</td>\n",
              "      <td>350</td>\n",
              "      <td>Gurgaon</td>\n",
              "      <td>Delhi NCR</td>\n",
              "      <td>306</td>\n",
              "      <td>Rustic</td>\n",
              "      <td>Dj</td>\n",
              "      <td>Veg</td>\n",
              "      <td>1524732</td>\n",
              "    </tr>\n",
              "    <tr>\n",
              "      <th>9999</th>\n",
              "      <td>Rajhans Greens</td>\n",
              "      <td>Farmhouses</td>\n",
              "      <td>1917</td>\n",
              "      <td>2226</td>\n",
              "      <td>40</td>\n",
              "      <td>5.0</td>\n",
              "      <td>70</td>\n",
              "      <td>1500</td>\n",
              "      <td>Bangalore</td>\n",
              "      <td>Bangalore</td>\n",
              "      <td>820</td>\n",
              "      <td>Vintage</td>\n",
              "      <td>Dj</td>\n",
              "      <td>Non-Veg</td>\n",
              "      <td>1997566</td>\n",
              "    </tr>\n",
              "  </tbody>\n",
              "</table>\n",
              "<p>10000 rows × 15 columns</p>\n",
              "</div>\n",
              "      <button class=\"colab-df-convert\" onclick=\"convertToInteractive('df-787c61ae-11ac-4436-a171-9018c00554c9')\"\n",
              "              title=\"Convert this dataframe to an interactive table.\"\n",
              "              style=\"display:none;\">\n",
              "        \n",
              "  <svg xmlns=\"http://www.w3.org/2000/svg\" height=\"24px\"viewBox=\"0 0 24 24\"\n",
              "       width=\"24px\">\n",
              "    <path d=\"M0 0h24v24H0V0z\" fill=\"none\"/>\n",
              "    <path d=\"M18.56 5.44l.94 2.06.94-2.06 2.06-.94-2.06-.94-.94-2.06-.94 2.06-2.06.94zm-11 1L8.5 8.5l.94-2.06 2.06-.94-2.06-.94L8.5 2.5l-.94 2.06-2.06.94zm10 10l.94 2.06.94-2.06 2.06-.94-2.06-.94-.94-2.06-.94 2.06-2.06.94z\"/><path d=\"M17.41 7.96l-1.37-1.37c-.4-.4-.92-.59-1.43-.59-.52 0-1.04.2-1.43.59L10.3 9.45l-7.72 7.72c-.78.78-.78 2.05 0 2.83L4 21.41c.39.39.9.59 1.41.59.51 0 1.02-.2 1.41-.59l7.78-7.78 2.81-2.81c.8-.78.8-2.07 0-2.86zM5.41 20L4 18.59l7.72-7.72 1.47 1.35L5.41 20z\"/>\n",
              "  </svg>\n",
              "      </button>\n",
              "      \n",
              "  <style>\n",
              "    .colab-df-container {\n",
              "      display:flex;\n",
              "      flex-wrap:wrap;\n",
              "      gap: 12px;\n",
              "    }\n",
              "\n",
              "    .colab-df-convert {\n",
              "      background-color: #E8F0FE;\n",
              "      border: none;\n",
              "      border-radius: 50%;\n",
              "      cursor: pointer;\n",
              "      display: none;\n",
              "      fill: #1967D2;\n",
              "      height: 32px;\n",
              "      padding: 0 0 0 0;\n",
              "      width: 32px;\n",
              "    }\n",
              "\n",
              "    .colab-df-convert:hover {\n",
              "      background-color: #E2EBFA;\n",
              "      box-shadow: 0px 1px 2px rgba(60, 64, 67, 0.3), 0px 1px 3px 1px rgba(60, 64, 67, 0.15);\n",
              "      fill: #174EA6;\n",
              "    }\n",
              "\n",
              "    [theme=dark] .colab-df-convert {\n",
              "      background-color: #3B4455;\n",
              "      fill: #D2E3FC;\n",
              "    }\n",
              "\n",
              "    [theme=dark] .colab-df-convert:hover {\n",
              "      background-color: #434B5C;\n",
              "      box-shadow: 0px 1px 3px 1px rgba(0, 0, 0, 0.15);\n",
              "      filter: drop-shadow(0px 1px 2px rgba(0, 0, 0, 0.3));\n",
              "      fill: #FFFFFF;\n",
              "    }\n",
              "  </style>\n",
              "\n",
              "      <script>\n",
              "        const buttonEl =\n",
              "          document.querySelector('#df-787c61ae-11ac-4436-a171-9018c00554c9 button.colab-df-convert');\n",
              "        buttonEl.style.display =\n",
              "          google.colab.kernel.accessAllowed ? 'block' : 'none';\n",
              "\n",
              "        async function convertToInteractive(key) {\n",
              "          const element = document.querySelector('#df-787c61ae-11ac-4436-a171-9018c00554c9');\n",
              "          const dataTable =\n",
              "            await google.colab.kernel.invokeFunction('convertToInteractive',\n",
              "                                                     [key], {});\n",
              "          if (!dataTable) return;\n",
              "\n",
              "          const docLinkHtml = 'Like what you see? Visit the ' +\n",
              "            '<a target=\"_blank\" href=https://colab.research.google.com/notebooks/data_table.ipynb>data table notebook</a>'\n",
              "            + ' to learn more about interactive tables.';\n",
              "          element.innerHTML = '';\n",
              "          dataTable['output_type'] = 'display_data';\n",
              "          await google.colab.output.renderOutput(dataTable, element);\n",
              "          const docLink = document.createElement('div');\n",
              "          docLink.innerHTML = docLinkHtml;\n",
              "          element.appendChild(docLink);\n",
              "        }\n",
              "      </script>\n",
              "    </div>\n",
              "  </div>\n",
              "  "
            ]
          },
          "metadata": {},
          "execution_count": 30
        }
      ]
    },
    {
      "cell_type": "code",
      "source": [],
      "metadata": {
        "id": "KfcyBTybvLnZ"
      },
      "id": "KfcyBTybvLnZ",
      "execution_count": 30,
      "outputs": []
    },
    {
      "cell_type": "code",
      "source": [
        "#df1.to_csv('Final_Wedding_Cost.csv',index=False)"
      ],
      "metadata": {
        "id": "m32g5Vhf7tRo"
      },
      "id": "m32g5Vhf7tRo",
      "execution_count": 31,
      "outputs": []
    },
    {
      "cell_type": "code",
      "source": [],
      "metadata": {
        "id": "k1j4Zm9bRkKJ"
      },
      "id": "k1j4Zm9bRkKJ",
      "execution_count": 31,
      "outputs": []
    },
    {
      "cell_type": "code",
      "source": [
        "\n",
        "\n",
        "\n"
      ],
      "metadata": {
        "id": "hYYuuw4lRmrJ"
      },
      "id": "hYYuuw4lRmrJ",
      "execution_count": 31,
      "outputs": []
    },
    {
      "cell_type": "code",
      "source": [],
      "metadata": {
        "id": "wVT9b-RKCE9J"
      },
      "id": "wVT9b-RKCE9J",
      "execution_count": 31,
      "outputs": []
    },
    {
      "cell_type": "code",
      "source": [],
      "metadata": {
        "id": "viTjY14xBxdA"
      },
      "id": "viTjY14xBxdA",
      "execution_count": 31,
      "outputs": []
    },
    {
      "cell_type": "code",
      "source": [],
      "metadata": {
        "id": "lD0MnF6OCjgv"
      },
      "id": "lD0MnF6OCjgv",
      "execution_count": 31,
      "outputs": []
    },
    {
      "cell_type": "code",
      "source": [],
      "metadata": {
        "id": "uOo9qLYJC2yg"
      },
      "id": "uOo9qLYJC2yg",
      "execution_count": 31,
      "outputs": []
    },
    {
      "cell_type": "code",
      "source": [
        " "
      ],
      "metadata": {
        "id": "tYafqq8_DF1O"
      },
      "id": "tYafqq8_DF1O",
      "execution_count": 31,
      "outputs": []
    },
    {
      "cell_type": "code",
      "source": [],
      "metadata": {
        "id": "eM4RSf4RDgLI"
      },
      "id": "eM4RSf4RDgLI",
      "execution_count": 31,
      "outputs": []
    },
    {
      "cell_type": "code",
      "source": [],
      "metadata": {
        "id": "LEzUVbFdD8AX"
      },
      "id": "LEzUVbFdD8AX",
      "execution_count": 31,
      "outputs": []
    },
    {
      "cell_type": "code",
      "source": [],
      "metadata": {
        "id": "BO2S7z6zKAci"
      },
      "id": "BO2S7z6zKAci",
      "execution_count": 31,
      "outputs": []
    },
    {
      "cell_type": "code",
      "source": [],
      "metadata": {
        "id": "TVMv7S7_Lii5"
      },
      "id": "TVMv7S7_Lii5",
      "execution_count": 31,
      "outputs": []
    },
    {
      "cell_type": "code",
      "source": [],
      "metadata": {
        "id": "bu3PkhheLiln"
      },
      "id": "bu3PkhheLiln",
      "execution_count": 31,
      "outputs": []
    },
    {
      "cell_type": "code",
      "source": [],
      "metadata": {
        "id": "wsi9ff4SLioV"
      },
      "id": "wsi9ff4SLioV",
      "execution_count": 31,
      "outputs": []
    },
    {
      "cell_type": "code",
      "source": [],
      "metadata": {
        "id": "gxRuXrdqLiq-"
      },
      "id": "gxRuXrdqLiq-",
      "execution_count": 31,
      "outputs": []
    },
    {
      "cell_type": "code",
      "source": [],
      "metadata": {
        "id": "8mv6hgU9Litm"
      },
      "id": "8mv6hgU9Litm",
      "execution_count": 31,
      "outputs": []
    },
    {
      "cell_type": "code",
      "source": [],
      "metadata": {
        "id": "cNNtOys9LiwX"
      },
      "id": "cNNtOys9LiwX",
      "execution_count": 31,
      "outputs": []
    },
    {
      "cell_type": "code",
      "source": [],
      "metadata": {
        "id": "rta8w3aqLizP"
      },
      "id": "rta8w3aqLizP",
      "execution_count": 31,
      "outputs": []
    },
    {
      "cell_type": "code",
      "source": [],
      "metadata": {
        "id": "SjaDPsjALi1w"
      },
      "id": "SjaDPsjALi1w",
      "execution_count": 31,
      "outputs": []
    },
    {
      "cell_type": "code",
      "source": [],
      "metadata": {
        "id": "jKAtlPQ2Li4f"
      },
      "id": "jKAtlPQ2Li4f",
      "execution_count": 31,
      "outputs": []
    },
    {
      "cell_type": "code",
      "source": [],
      "metadata": {
        "id": "Cvw-Kh-ILi6-"
      },
      "id": "Cvw-Kh-ILi6-",
      "execution_count": 31,
      "outputs": []
    },
    {
      "cell_type": "code",
      "source": [],
      "metadata": {
        "id": "3h2kkR91Li9o"
      },
      "id": "3h2kkR91Li9o",
      "execution_count": 31,
      "outputs": []
    },
    {
      "cell_type": "code",
      "source": [],
      "metadata": {
        "id": "fsCqOU2HLi_w"
      },
      "id": "fsCqOU2HLi_w",
      "execution_count": 31,
      "outputs": []
    },
    {
      "cell_type": "code",
      "source": [],
      "metadata": {
        "id": "58foybIsdfKV"
      },
      "id": "58foybIsdfKV",
      "execution_count": 32,
      "outputs": []
    },
    {
      "cell_type": "code",
      "source": [],
      "metadata": {
        "id": "Q9ZdIW-KuflU"
      },
      "id": "Q9ZdIW-KuflU",
      "execution_count": 33,
      "outputs": []
    },
    {
      "cell_type": "code",
      "source": [],
      "metadata": {
        "id": "dfmp8mA0D8DN"
      },
      "id": "dfmp8mA0D8DN",
      "execution_count": 34,
      "outputs": []
    },
    {
      "cell_type": "code",
      "source": [],
      "metadata": {
        "id": "oieoM0ovFaDY"
      },
      "id": "oieoM0ovFaDY",
      "execution_count": 35,
      "outputs": []
    },
    {
      "cell_type": "code",
      "source": [],
      "metadata": {
        "id": "aJnEmQIpD8F9"
      },
      "id": "aJnEmQIpD8F9",
      "execution_count": 35,
      "outputs": []
    },
    {
      "cell_type": "code",
      "source": [],
      "metadata": {
        "id": "nLhQ3S0dD8I2"
      },
      "id": "nLhQ3S0dD8I2",
      "execution_count": 35,
      "outputs": []
    },
    {
      "cell_type": "code",
      "source": [],
      "metadata": {
        "id": "hv8Ue6r5D8Ld"
      },
      "id": "hv8Ue6r5D8Ld",
      "execution_count": 35,
      "outputs": []
    },
    {
      "cell_type": "code",
      "source": [],
      "metadata": {
        "id": "TRPFNTmDD8Ol"
      },
      "id": "TRPFNTmDD8Ol",
      "execution_count": 35,
      "outputs": []
    },
    {
      "cell_type": "code",
      "source": [
        "df1"
      ],
      "metadata": {
        "id": "RWHNxxwk_9Ig",
        "colab": {
          "base_uri": "https://localhost:8080/",
          "height": 731
        },
        "outputId": "28d1c72e-0221-4cc5-e1cc-b3d940da7c64"
      },
      "id": "RWHNxxwk_9Ig",
      "execution_count": 36,
      "outputs": [
        {
          "output_type": "execute_result",
          "data": {
            "text/plain": [
              "                                  Name     Venue_type  veg_plate_price  \\\n",
              "0                    The Bristol Hotel  Banquet Halls             2000   \n",
              "1                     Le Roma Gardenia     Farmhouses             1000   \n",
              "2                         Trident Lawn     Farmhouses             1000   \n",
              "3                     Seven Seas Hotel  Banquet Halls             2600   \n",
              "4            Welcomhotel by ITC Hotels  Banquet Halls             1500   \n",
              "...                                ...            ...              ...   \n",
              "9995  Hyatt Regency Dharamshala Resort  Banquet Halls             2000   \n",
              "9996                 The Royal Imperio  Banquet Halls             1700   \n",
              "9997                Chomu Palace Hotel  Banquet Halls             2000   \n",
              "9998         Westin Sohna Resort & Spa        Resorts             4500   \n",
              "9999                    Rajhans Greens     Farmhouses             1917   \n",
              "\n",
              "      non_veg_plate_price  Rooms  Ratings  Minimum  Maximum              Area  \\\n",
              "0                    2200     83      4.4       50     1200       DLF Phase 1   \n",
              "1                    1200     18      4.6      400      850   North Bangalore   \n",
              "2                    1200      7      4.9      900     1500  Vrindavan Colony   \n",
              "3                    2800    107      4.2       80     1275            Rohini   \n",
              "4                    1800    171      5.0      100      600          Tambaram   \n",
              "...                   ...    ...      ...      ...      ...               ...   \n",
              "9995                 2600     81      5.0      300      400       Dharamshala   \n",
              "9996                 1800     31      4.4      120      500         Sector 39   \n",
              "9997                 2500    100      4.9       40      500             Chomu   \n",
              "9998                 4500     97      4.7      150      350           Gurgaon   \n",
              "9999                 2226     40      5.0       70     1500         Bangalore   \n",
              "\n",
              "             City  People_Attended Decoration_type Entertainment_Types  \\\n",
              "0         Gurgaon              756           Royal             Singing   \n",
              "1       Bangalore              798           Royal                  Dj   \n",
              "2         Lucknow             1217          Modern             Dancing   \n",
              "3       Delhi NCR             1171         Vintage                  Dj   \n",
              "4         Chennai              384           Royal                  Dj   \n",
              "...           ...              ...             ...                 ...   \n",
              "9995  Dharamshala              355           Royal                  Dj   \n",
              "9996    Faridabad              444          Rustic             Dancing   \n",
              "9997       Jaipur              287           Royal             Dancing   \n",
              "9998    Delhi NCR              306          Rustic                  Dj   \n",
              "9999    Bangalore              820         Vintage                  Dj   \n",
              "\n",
              "     Food_Selected  Total_Cost  \n",
              "0              Veg     1668606  \n",
              "1          Non-Veg     1149846  \n",
              "2          Non-Veg     1602646  \n",
              "3              Veg     3186206  \n",
              "4          Non-Veg      852806  \n",
              "...            ...         ...  \n",
              "9995       Non-Veg     1084606  \n",
              "9996           Veg      846406  \n",
              "9997           Veg      725606  \n",
              "9998           Veg     1524732  \n",
              "9999       Non-Veg     1997566  \n",
              "\n",
              "[10000 rows x 15 columns]"
            ],
            "text/html": [
              "\n",
              "  <div id=\"df-d96cfb90-a457-41be-a8cd-1c30f8ce17cf\">\n",
              "    <div class=\"colab-df-container\">\n",
              "      <div>\n",
              "<style scoped>\n",
              "    .dataframe tbody tr th:only-of-type {\n",
              "        vertical-align: middle;\n",
              "    }\n",
              "\n",
              "    .dataframe tbody tr th {\n",
              "        vertical-align: top;\n",
              "    }\n",
              "\n",
              "    .dataframe thead th {\n",
              "        text-align: right;\n",
              "    }\n",
              "</style>\n",
              "<table border=\"1\" class=\"dataframe\">\n",
              "  <thead>\n",
              "    <tr style=\"text-align: right;\">\n",
              "      <th></th>\n",
              "      <th>Name</th>\n",
              "      <th>Venue_type</th>\n",
              "      <th>veg_plate_price</th>\n",
              "      <th>non_veg_plate_price</th>\n",
              "      <th>Rooms</th>\n",
              "      <th>Ratings</th>\n",
              "      <th>Minimum</th>\n",
              "      <th>Maximum</th>\n",
              "      <th>Area</th>\n",
              "      <th>City</th>\n",
              "      <th>People_Attended</th>\n",
              "      <th>Decoration_type</th>\n",
              "      <th>Entertainment_Types</th>\n",
              "      <th>Food_Selected</th>\n",
              "      <th>Total_Cost</th>\n",
              "    </tr>\n",
              "  </thead>\n",
              "  <tbody>\n",
              "    <tr>\n",
              "      <th>0</th>\n",
              "      <td>The Bristol Hotel</td>\n",
              "      <td>Banquet Halls</td>\n",
              "      <td>2000</td>\n",
              "      <td>2200</td>\n",
              "      <td>83</td>\n",
              "      <td>4.4</td>\n",
              "      <td>50</td>\n",
              "      <td>1200</td>\n",
              "      <td>DLF Phase 1</td>\n",
              "      <td>Gurgaon</td>\n",
              "      <td>756</td>\n",
              "      <td>Royal</td>\n",
              "      <td>Singing</td>\n",
              "      <td>Veg</td>\n",
              "      <td>1668606</td>\n",
              "    </tr>\n",
              "    <tr>\n",
              "      <th>1</th>\n",
              "      <td>Le Roma Gardenia</td>\n",
              "      <td>Farmhouses</td>\n",
              "      <td>1000</td>\n",
              "      <td>1200</td>\n",
              "      <td>18</td>\n",
              "      <td>4.6</td>\n",
              "      <td>400</td>\n",
              "      <td>850</td>\n",
              "      <td>North Bangalore</td>\n",
              "      <td>Bangalore</td>\n",
              "      <td>798</td>\n",
              "      <td>Royal</td>\n",
              "      <td>Dj</td>\n",
              "      <td>Non-Veg</td>\n",
              "      <td>1149846</td>\n",
              "    </tr>\n",
              "    <tr>\n",
              "      <th>2</th>\n",
              "      <td>Trident Lawn</td>\n",
              "      <td>Farmhouses</td>\n",
              "      <td>1000</td>\n",
              "      <td>1200</td>\n",
              "      <td>7</td>\n",
              "      <td>4.9</td>\n",
              "      <td>900</td>\n",
              "      <td>1500</td>\n",
              "      <td>Vrindavan Colony</td>\n",
              "      <td>Lucknow</td>\n",
              "      <td>1217</td>\n",
              "      <td>Modern</td>\n",
              "      <td>Dancing</td>\n",
              "      <td>Non-Veg</td>\n",
              "      <td>1602646</td>\n",
              "    </tr>\n",
              "    <tr>\n",
              "      <th>3</th>\n",
              "      <td>Seven Seas Hotel</td>\n",
              "      <td>Banquet Halls</td>\n",
              "      <td>2600</td>\n",
              "      <td>2800</td>\n",
              "      <td>107</td>\n",
              "      <td>4.2</td>\n",
              "      <td>80</td>\n",
              "      <td>1275</td>\n",
              "      <td>Rohini</td>\n",
              "      <td>Delhi NCR</td>\n",
              "      <td>1171</td>\n",
              "      <td>Vintage</td>\n",
              "      <td>Dj</td>\n",
              "      <td>Veg</td>\n",
              "      <td>3186206</td>\n",
              "    </tr>\n",
              "    <tr>\n",
              "      <th>4</th>\n",
              "      <td>Welcomhotel by ITC Hotels</td>\n",
              "      <td>Banquet Halls</td>\n",
              "      <td>1500</td>\n",
              "      <td>1800</td>\n",
              "      <td>171</td>\n",
              "      <td>5.0</td>\n",
              "      <td>100</td>\n",
              "      <td>600</td>\n",
              "      <td>Tambaram</td>\n",
              "      <td>Chennai</td>\n",
              "      <td>384</td>\n",
              "      <td>Royal</td>\n",
              "      <td>Dj</td>\n",
              "      <td>Non-Veg</td>\n",
              "      <td>852806</td>\n",
              "    </tr>\n",
              "    <tr>\n",
              "      <th>...</th>\n",
              "      <td>...</td>\n",
              "      <td>...</td>\n",
              "      <td>...</td>\n",
              "      <td>...</td>\n",
              "      <td>...</td>\n",
              "      <td>...</td>\n",
              "      <td>...</td>\n",
              "      <td>...</td>\n",
              "      <td>...</td>\n",
              "      <td>...</td>\n",
              "      <td>...</td>\n",
              "      <td>...</td>\n",
              "      <td>...</td>\n",
              "      <td>...</td>\n",
              "      <td>...</td>\n",
              "    </tr>\n",
              "    <tr>\n",
              "      <th>9995</th>\n",
              "      <td>Hyatt Regency Dharamshala Resort</td>\n",
              "      <td>Banquet Halls</td>\n",
              "      <td>2000</td>\n",
              "      <td>2600</td>\n",
              "      <td>81</td>\n",
              "      <td>5.0</td>\n",
              "      <td>300</td>\n",
              "      <td>400</td>\n",
              "      <td>Dharamshala</td>\n",
              "      <td>Dharamshala</td>\n",
              "      <td>355</td>\n",
              "      <td>Royal</td>\n",
              "      <td>Dj</td>\n",
              "      <td>Non-Veg</td>\n",
              "      <td>1084606</td>\n",
              "    </tr>\n",
              "    <tr>\n",
              "      <th>9996</th>\n",
              "      <td>The Royal Imperio</td>\n",
              "      <td>Banquet Halls</td>\n",
              "      <td>1700</td>\n",
              "      <td>1800</td>\n",
              "      <td>31</td>\n",
              "      <td>4.4</td>\n",
              "      <td>120</td>\n",
              "      <td>500</td>\n",
              "      <td>Sector 39</td>\n",
              "      <td>Faridabad</td>\n",
              "      <td>444</td>\n",
              "      <td>Rustic</td>\n",
              "      <td>Dancing</td>\n",
              "      <td>Veg</td>\n",
              "      <td>846406</td>\n",
              "    </tr>\n",
              "    <tr>\n",
              "      <th>9997</th>\n",
              "      <td>Chomu Palace Hotel</td>\n",
              "      <td>Banquet Halls</td>\n",
              "      <td>2000</td>\n",
              "      <td>2500</td>\n",
              "      <td>100</td>\n",
              "      <td>4.9</td>\n",
              "      <td>40</td>\n",
              "      <td>500</td>\n",
              "      <td>Chomu</td>\n",
              "      <td>Jaipur</td>\n",
              "      <td>287</td>\n",
              "      <td>Royal</td>\n",
              "      <td>Dancing</td>\n",
              "      <td>Veg</td>\n",
              "      <td>725606</td>\n",
              "    </tr>\n",
              "    <tr>\n",
              "      <th>9998</th>\n",
              "      <td>Westin Sohna Resort &amp; Spa</td>\n",
              "      <td>Resorts</td>\n",
              "      <td>4500</td>\n",
              "      <td>4500</td>\n",
              "      <td>97</td>\n",
              "      <td>4.7</td>\n",
              "      <td>150</td>\n",
              "      <td>350</td>\n",
              "      <td>Gurgaon</td>\n",
              "      <td>Delhi NCR</td>\n",
              "      <td>306</td>\n",
              "      <td>Rustic</td>\n",
              "      <td>Dj</td>\n",
              "      <td>Veg</td>\n",
              "      <td>1524732</td>\n",
              "    </tr>\n",
              "    <tr>\n",
              "      <th>9999</th>\n",
              "      <td>Rajhans Greens</td>\n",
              "      <td>Farmhouses</td>\n",
              "      <td>1917</td>\n",
              "      <td>2226</td>\n",
              "      <td>40</td>\n",
              "      <td>5.0</td>\n",
              "      <td>70</td>\n",
              "      <td>1500</td>\n",
              "      <td>Bangalore</td>\n",
              "      <td>Bangalore</td>\n",
              "      <td>820</td>\n",
              "      <td>Vintage</td>\n",
              "      <td>Dj</td>\n",
              "      <td>Non-Veg</td>\n",
              "      <td>1997566</td>\n",
              "    </tr>\n",
              "  </tbody>\n",
              "</table>\n",
              "<p>10000 rows × 15 columns</p>\n",
              "</div>\n",
              "      <button class=\"colab-df-convert\" onclick=\"convertToInteractive('df-d96cfb90-a457-41be-a8cd-1c30f8ce17cf')\"\n",
              "              title=\"Convert this dataframe to an interactive table.\"\n",
              "              style=\"display:none;\">\n",
              "        \n",
              "  <svg xmlns=\"http://www.w3.org/2000/svg\" height=\"24px\"viewBox=\"0 0 24 24\"\n",
              "       width=\"24px\">\n",
              "    <path d=\"M0 0h24v24H0V0z\" fill=\"none\"/>\n",
              "    <path d=\"M18.56 5.44l.94 2.06.94-2.06 2.06-.94-2.06-.94-.94-2.06-.94 2.06-2.06.94zm-11 1L8.5 8.5l.94-2.06 2.06-.94-2.06-.94L8.5 2.5l-.94 2.06-2.06.94zm10 10l.94 2.06.94-2.06 2.06-.94-2.06-.94-.94-2.06-.94 2.06-2.06.94z\"/><path d=\"M17.41 7.96l-1.37-1.37c-.4-.4-.92-.59-1.43-.59-.52 0-1.04.2-1.43.59L10.3 9.45l-7.72 7.72c-.78.78-.78 2.05 0 2.83L4 21.41c.39.39.9.59 1.41.59.51 0 1.02-.2 1.41-.59l7.78-7.78 2.81-2.81c.8-.78.8-2.07 0-2.86zM5.41 20L4 18.59l7.72-7.72 1.47 1.35L5.41 20z\"/>\n",
              "  </svg>\n",
              "      </button>\n",
              "      \n",
              "  <style>\n",
              "    .colab-df-container {\n",
              "      display:flex;\n",
              "      flex-wrap:wrap;\n",
              "      gap: 12px;\n",
              "    }\n",
              "\n",
              "    .colab-df-convert {\n",
              "      background-color: #E8F0FE;\n",
              "      border: none;\n",
              "      border-radius: 50%;\n",
              "      cursor: pointer;\n",
              "      display: none;\n",
              "      fill: #1967D2;\n",
              "      height: 32px;\n",
              "      padding: 0 0 0 0;\n",
              "      width: 32px;\n",
              "    }\n",
              "\n",
              "    .colab-df-convert:hover {\n",
              "      background-color: #E2EBFA;\n",
              "      box-shadow: 0px 1px 2px rgba(60, 64, 67, 0.3), 0px 1px 3px 1px rgba(60, 64, 67, 0.15);\n",
              "      fill: #174EA6;\n",
              "    }\n",
              "\n",
              "    [theme=dark] .colab-df-convert {\n",
              "      background-color: #3B4455;\n",
              "      fill: #D2E3FC;\n",
              "    }\n",
              "\n",
              "    [theme=dark] .colab-df-convert:hover {\n",
              "      background-color: #434B5C;\n",
              "      box-shadow: 0px 1px 3px 1px rgba(0, 0, 0, 0.15);\n",
              "      filter: drop-shadow(0px 1px 2px rgba(0, 0, 0, 0.3));\n",
              "      fill: #FFFFFF;\n",
              "    }\n",
              "  </style>\n",
              "\n",
              "      <script>\n",
              "        const buttonEl =\n",
              "          document.querySelector('#df-d96cfb90-a457-41be-a8cd-1c30f8ce17cf button.colab-df-convert');\n",
              "        buttonEl.style.display =\n",
              "          google.colab.kernel.accessAllowed ? 'block' : 'none';\n",
              "\n",
              "        async function convertToInteractive(key) {\n",
              "          const element = document.querySelector('#df-d96cfb90-a457-41be-a8cd-1c30f8ce17cf');\n",
              "          const dataTable =\n",
              "            await google.colab.kernel.invokeFunction('convertToInteractive',\n",
              "                                                     [key], {});\n",
              "          if (!dataTable) return;\n",
              "\n",
              "          const docLinkHtml = 'Like what you see? Visit the ' +\n",
              "            '<a target=\"_blank\" href=https://colab.research.google.com/notebooks/data_table.ipynb>data table notebook</a>'\n",
              "            + ' to learn more about interactive tables.';\n",
              "          element.innerHTML = '';\n",
              "          dataTable['output_type'] = 'display_data';\n",
              "          await google.colab.output.renderOutput(dataTable, element);\n",
              "          const docLink = document.createElement('div');\n",
              "          docLink.innerHTML = docLinkHtml;\n",
              "          element.appendChild(docLink);\n",
              "        }\n",
              "      </script>\n",
              "    </div>\n",
              "  </div>\n",
              "  "
            ]
          },
          "metadata": {},
          "execution_count": 36
        }
      ]
    }
  ],
  "metadata": {
    "kernelspec": {
      "display_name": "Python 3 (ipykernel)",
      "language": "python",
      "name": "python3"
    },
    "language_info": {
      "codemirror_mode": {
        "name": "ipython",
        "version": 3
      },
      "file_extension": ".py",
      "mimetype": "text/x-python",
      "name": "python",
      "nbconvert_exporter": "python",
      "pygments_lexer": "ipython3",
      "version": "3.9.13"
    },
    "vp": {
      "vp_config_version": "1.0.0",
      "vp_menu_width": 273,
      "vp_note_display": false,
      "vp_note_width": 0,
      "vp_position": {
        "width": 278
      },
      "vp_section_display": false,
      "vp_signature": "VisualPython"
    },
    "colab": {
      "provenance": []
    }
  },
  "nbformat": 4,
  "nbformat_minor": 5
}